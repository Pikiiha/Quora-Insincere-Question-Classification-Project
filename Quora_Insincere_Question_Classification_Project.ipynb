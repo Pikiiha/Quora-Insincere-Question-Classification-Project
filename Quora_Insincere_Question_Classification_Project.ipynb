{
  "cells": [
    {
      "cell_type": "markdown",
      "source": [
        "Here Importing Necessary Library"
      ],
      "metadata": {
        "id": "YSkNy1mvp4zb"
      }
    },
    {
      "cell_type": "code",
      "execution_count": null,
      "metadata": {
        "id": "3PI9C633IWev"
      },
      "outputs": [],
      "source": [
        "import pandas as pd\n",
        "import numpy as np\n",
        "import matplotlib.pyplot as plt\n",
        "import seaborn as sns\n",
        "from sklearn.model_selection import train_test_split, cross_val_score, GridSearchCV\n",
        "from sklearn.feature_extraction.text import TfidfVectorizer, CountVectorizer\n",
        "from sklearn.linear_model import LogisticRegression\n",
        "from sklearn.naive_bayes import MultinomialNB\n",
        "from sklearn.svm import SVC\n",
        "from sklearn.ensemble import RandomForestClassifier, GradientBoostingClassifier\n",
        "from sklearn.metrics import accuracy_score, classification_report, confusion_matrix, roc_auc_score, roc_curve\n",
        "from sklearn.pipeline import Pipeline\n",
        "import re\n",
        "import nltk\n",
        "from nltk.corpus import stopwords\n",
        "from nltk.tokenize import word_tokenize\n",
        "from nltk.stem import WordNetLemmatizer\n",
        "import warnings\n",
        "warnings.filterwarnings('ignore')\n"
      ]
    },
    {
      "cell_type": "code",
      "execution_count": null,
      "metadata": {
        "colab": {
          "base_uri": "https://localhost:8080/"
        },
        "id": "KPpwaFz-aaVe",
        "outputId": "d45ced5f-e215-4476-a47a-801233c36cef"
      },
      "outputs": [
        {
          "output_type": "stream",
          "name": "stderr",
          "text": [
            "[nltk_data] Downloading package punkt to /root/nltk_data...\n",
            "[nltk_data]   Unzipping tokenizers/punkt.zip.\n",
            "[nltk_data] Downloading package stopwords to /root/nltk_data...\n",
            "[nltk_data]   Unzipping corpora/stopwords.zip.\n",
            "[nltk_data] Downloading package wordnet to /root/nltk_data...\n"
          ]
        },
        {
          "output_type": "execute_result",
          "data": {
            "text/plain": [
              "True"
            ]
          },
          "metadata": {},
          "execution_count": 31
        }
      ],
      "source": [
        "import nltk\n",
        "\n",
        "# Always force download in Colab to avoid corruption\n",
        "nltk.download('punkt', force=True)\n",
        "nltk.download('stopwords', force=True)\n",
        "nltk.download('wordnet', force=True)\n"
      ]
    },
    {
      "cell_type": "code",
      "execution_count": null,
      "metadata": {
        "colab": {
          "base_uri": "https://localhost:8080/"
        },
        "id": "VVJaz_ij7vNH",
        "outputId": "2b30ddc1-2078-4f65-c864-165fc7acd711"
      },
      "outputs": [
        {
          "output_type": "stream",
          "name": "stdout",
          "text": [
            "['.config', 'train.csv', 'sample_data']\n"
          ]
        }
      ],
      "source": [
        "import os\n",
        "print(os.listdir())\n"
      ]
    },
    {
      "cell_type": "markdown",
      "source": [
        "Uploading The Data"
      ],
      "metadata": {
        "id": "U5acTaVRqFHT"
      }
    },
    {
      "cell_type": "code",
      "execution_count": null,
      "metadata": {
        "colab": {
          "base_uri": "https://localhost:8080/",
          "height": 73
        },
        "id": "iO7bHbwIIjEB",
        "outputId": "f6d56e11-8d06-4d9c-b9ff-225aa50824ad"
      },
      "outputs": [
        {
          "output_type": "display_data",
          "data": {
            "text/plain": [
              "<IPython.core.display.HTML object>"
            ],
            "text/html": [
              "\n",
              "     <input type=\"file\" id=\"files-5b052dad-7cda-4eb2-9a18-20f03e00a5ab\" name=\"files[]\" multiple disabled\n",
              "        style=\"border:none\" />\n",
              "     <output id=\"result-5b052dad-7cda-4eb2-9a18-20f03e00a5ab\">\n",
              "      Upload widget is only available when the cell has been executed in the\n",
              "      current browser session. Please rerun this cell to enable.\n",
              "      </output>\n",
              "      <script>// Copyright 2017 Google LLC\n",
              "//\n",
              "// Licensed under the Apache License, Version 2.0 (the \"License\");\n",
              "// you may not use this file except in compliance with the License.\n",
              "// You may obtain a copy of the License at\n",
              "//\n",
              "//      http://www.apache.org/licenses/LICENSE-2.0\n",
              "//\n",
              "// Unless required by applicable law or agreed to in writing, software\n",
              "// distributed under the License is distributed on an \"AS IS\" BASIS,\n",
              "// WITHOUT WARRANTIES OR CONDITIONS OF ANY KIND, either express or implied.\n",
              "// See the License for the specific language governing permissions and\n",
              "// limitations under the License.\n",
              "\n",
              "/**\n",
              " * @fileoverview Helpers for google.colab Python module.\n",
              " */\n",
              "(function(scope) {\n",
              "function span(text, styleAttributes = {}) {\n",
              "  const element = document.createElement('span');\n",
              "  element.textContent = text;\n",
              "  for (const key of Object.keys(styleAttributes)) {\n",
              "    element.style[key] = styleAttributes[key];\n",
              "  }\n",
              "  return element;\n",
              "}\n",
              "\n",
              "// Max number of bytes which will be uploaded at a time.\n",
              "const MAX_PAYLOAD_SIZE = 100 * 1024;\n",
              "\n",
              "function _uploadFiles(inputId, outputId) {\n",
              "  const steps = uploadFilesStep(inputId, outputId);\n",
              "  const outputElement = document.getElementById(outputId);\n",
              "  // Cache steps on the outputElement to make it available for the next call\n",
              "  // to uploadFilesContinue from Python.\n",
              "  outputElement.steps = steps;\n",
              "\n",
              "  return _uploadFilesContinue(outputId);\n",
              "}\n",
              "\n",
              "// This is roughly an async generator (not supported in the browser yet),\n",
              "// where there are multiple asynchronous steps and the Python side is going\n",
              "// to poll for completion of each step.\n",
              "// This uses a Promise to block the python side on completion of each step,\n",
              "// then passes the result of the previous step as the input to the next step.\n",
              "function _uploadFilesContinue(outputId) {\n",
              "  const outputElement = document.getElementById(outputId);\n",
              "  const steps = outputElement.steps;\n",
              "\n",
              "  const next = steps.next(outputElement.lastPromiseValue);\n",
              "  return Promise.resolve(next.value.promise).then((value) => {\n",
              "    // Cache the last promise value to make it available to the next\n",
              "    // step of the generator.\n",
              "    outputElement.lastPromiseValue = value;\n",
              "    return next.value.response;\n",
              "  });\n",
              "}\n",
              "\n",
              "/**\n",
              " * Generator function which is called between each async step of the upload\n",
              " * process.\n",
              " * @param {string} inputId Element ID of the input file picker element.\n",
              " * @param {string} outputId Element ID of the output display.\n",
              " * @return {!Iterable<!Object>} Iterable of next steps.\n",
              " */\n",
              "function* uploadFilesStep(inputId, outputId) {\n",
              "  const inputElement = document.getElementById(inputId);\n",
              "  inputElement.disabled = false;\n",
              "\n",
              "  const outputElement = document.getElementById(outputId);\n",
              "  outputElement.innerHTML = '';\n",
              "\n",
              "  const pickedPromise = new Promise((resolve) => {\n",
              "    inputElement.addEventListener('change', (e) => {\n",
              "      resolve(e.target.files);\n",
              "    });\n",
              "  });\n",
              "\n",
              "  const cancel = document.createElement('button');\n",
              "  inputElement.parentElement.appendChild(cancel);\n",
              "  cancel.textContent = 'Cancel upload';\n",
              "  const cancelPromise = new Promise((resolve) => {\n",
              "    cancel.onclick = () => {\n",
              "      resolve(null);\n",
              "    };\n",
              "  });\n",
              "\n",
              "  // Wait for the user to pick the files.\n",
              "  const files = yield {\n",
              "    promise: Promise.race([pickedPromise, cancelPromise]),\n",
              "    response: {\n",
              "      action: 'starting',\n",
              "    }\n",
              "  };\n",
              "\n",
              "  cancel.remove();\n",
              "\n",
              "  // Disable the input element since further picks are not allowed.\n",
              "  inputElement.disabled = true;\n",
              "\n",
              "  if (!files) {\n",
              "    return {\n",
              "      response: {\n",
              "        action: 'complete',\n",
              "      }\n",
              "    };\n",
              "  }\n",
              "\n",
              "  for (const file of files) {\n",
              "    const li = document.createElement('li');\n",
              "    li.append(span(file.name, {fontWeight: 'bold'}));\n",
              "    li.append(span(\n",
              "        `(${file.type || 'n/a'}) - ${file.size} bytes, ` +\n",
              "        `last modified: ${\n",
              "            file.lastModifiedDate ? file.lastModifiedDate.toLocaleDateString() :\n",
              "                                    'n/a'} - `));\n",
              "    const percent = span('0% done');\n",
              "    li.appendChild(percent);\n",
              "\n",
              "    outputElement.appendChild(li);\n",
              "\n",
              "    const fileDataPromise = new Promise((resolve) => {\n",
              "      const reader = new FileReader();\n",
              "      reader.onload = (e) => {\n",
              "        resolve(e.target.result);\n",
              "      };\n",
              "      reader.readAsArrayBuffer(file);\n",
              "    });\n",
              "    // Wait for the data to be ready.\n",
              "    let fileData = yield {\n",
              "      promise: fileDataPromise,\n",
              "      response: {\n",
              "        action: 'continue',\n",
              "      }\n",
              "    };\n",
              "\n",
              "    // Use a chunked sending to avoid message size limits. See b/62115660.\n",
              "    let position = 0;\n",
              "    do {\n",
              "      const length = Math.min(fileData.byteLength - position, MAX_PAYLOAD_SIZE);\n",
              "      const chunk = new Uint8Array(fileData, position, length);\n",
              "      position += length;\n",
              "\n",
              "      const base64 = btoa(String.fromCharCode.apply(null, chunk));\n",
              "      yield {\n",
              "        response: {\n",
              "          action: 'append',\n",
              "          file: file.name,\n",
              "          data: base64,\n",
              "        },\n",
              "      };\n",
              "\n",
              "      let percentDone = fileData.byteLength === 0 ?\n",
              "          100 :\n",
              "          Math.round((position / fileData.byteLength) * 100);\n",
              "      percent.textContent = `${percentDone}% done`;\n",
              "\n",
              "    } while (position < fileData.byteLength);\n",
              "  }\n",
              "\n",
              "  // All done.\n",
              "  yield {\n",
              "    response: {\n",
              "      action: 'complete',\n",
              "    }\n",
              "  };\n",
              "}\n",
              "\n",
              "scope.google = scope.google || {};\n",
              "scope.google.colab = scope.google.colab || {};\n",
              "scope.google.colab._files = {\n",
              "  _uploadFiles,\n",
              "  _uploadFilesContinue,\n",
              "};\n",
              "})(self);\n",
              "</script> "
            ]
          },
          "metadata": {}
        },
        {
          "output_type": "stream",
          "name": "stdout",
          "text": [
            "Saving train.csv to train (1).csv\n"
          ]
        }
      ],
      "source": [
        "from google.colab import files\n",
        "uploaded = files.upload()"
      ]
    },
    {
      "cell_type": "code",
      "execution_count": null,
      "metadata": {
        "colab": {
          "base_uri": "https://localhost:8080/",
          "height": 206
        },
        "id": "MX8_iGZNLDdZ",
        "outputId": "72540bef-38f3-4093-d8f5-5a15f9fd3ef7"
      },
      "outputs": [
        {
          "output_type": "execute_result",
          "data": {
            "text/plain": [
              "                    qid                                      question_text  \\\n",
              "0  00002165364db923c7e6  How did Quebec nationalists see their province...   \n",
              "1  000032939017120e6e44  Do you have an adopted dog, how would you enco...   \n",
              "2  0000412ca6e4628ce2cf  Why does velocity affect time? Does velocity a...   \n",
              "3  000042bf85aa498cd78e  How did Otto von Guericke used the Magdeburg h...   \n",
              "4  0000455dfa3e01eae3af  Can I convert montra helicon D to a mountain b...   \n",
              "\n",
              "   target  \n",
              "0       0  \n",
              "1       0  \n",
              "2       0  \n",
              "3       0  \n",
              "4       0  "
            ],
            "text/html": [
              "\n",
              "  <div id=\"df-21523972-5239-4f96-8bac-b171574b4eb0\" class=\"colab-df-container\">\n",
              "    <div>\n",
              "<style scoped>\n",
              "    .dataframe tbody tr th:only-of-type {\n",
              "        vertical-align: middle;\n",
              "    }\n",
              "\n",
              "    .dataframe tbody tr th {\n",
              "        vertical-align: top;\n",
              "    }\n",
              "\n",
              "    .dataframe thead th {\n",
              "        text-align: right;\n",
              "    }\n",
              "</style>\n",
              "<table border=\"1\" class=\"dataframe\">\n",
              "  <thead>\n",
              "    <tr style=\"text-align: right;\">\n",
              "      <th></th>\n",
              "      <th>qid</th>\n",
              "      <th>question_text</th>\n",
              "      <th>target</th>\n",
              "    </tr>\n",
              "  </thead>\n",
              "  <tbody>\n",
              "    <tr>\n",
              "      <th>0</th>\n",
              "      <td>00002165364db923c7e6</td>\n",
              "      <td>How did Quebec nationalists see their province...</td>\n",
              "      <td>0</td>\n",
              "    </tr>\n",
              "    <tr>\n",
              "      <th>1</th>\n",
              "      <td>000032939017120e6e44</td>\n",
              "      <td>Do you have an adopted dog, how would you enco...</td>\n",
              "      <td>0</td>\n",
              "    </tr>\n",
              "    <tr>\n",
              "      <th>2</th>\n",
              "      <td>0000412ca6e4628ce2cf</td>\n",
              "      <td>Why does velocity affect time? Does velocity a...</td>\n",
              "      <td>0</td>\n",
              "    </tr>\n",
              "    <tr>\n",
              "      <th>3</th>\n",
              "      <td>000042bf85aa498cd78e</td>\n",
              "      <td>How did Otto von Guericke used the Magdeburg h...</td>\n",
              "      <td>0</td>\n",
              "    </tr>\n",
              "    <tr>\n",
              "      <th>4</th>\n",
              "      <td>0000455dfa3e01eae3af</td>\n",
              "      <td>Can I convert montra helicon D to a mountain b...</td>\n",
              "      <td>0</td>\n",
              "    </tr>\n",
              "  </tbody>\n",
              "</table>\n",
              "</div>\n",
              "    <div class=\"colab-df-buttons\">\n",
              "\n",
              "  <div class=\"colab-df-container\">\n",
              "    <button class=\"colab-df-convert\" onclick=\"convertToInteractive('df-21523972-5239-4f96-8bac-b171574b4eb0')\"\n",
              "            title=\"Convert this dataframe to an interactive table.\"\n",
              "            style=\"display:none;\">\n",
              "\n",
              "  <svg xmlns=\"http://www.w3.org/2000/svg\" height=\"24px\" viewBox=\"0 -960 960 960\">\n",
              "    <path d=\"M120-120v-720h720v720H120Zm60-500h600v-160H180v160Zm220 220h160v-160H400v160Zm0 220h160v-160H400v160ZM180-400h160v-160H180v160Zm440 0h160v-160H620v160ZM180-180h160v-160H180v160Zm440 0h160v-160H620v160Z\"/>\n",
              "  </svg>\n",
              "    </button>\n",
              "\n",
              "  <style>\n",
              "    .colab-df-container {\n",
              "      display:flex;\n",
              "      gap: 12px;\n",
              "    }\n",
              "\n",
              "    .colab-df-convert {\n",
              "      background-color: #E8F0FE;\n",
              "      border: none;\n",
              "      border-radius: 50%;\n",
              "      cursor: pointer;\n",
              "      display: none;\n",
              "      fill: #1967D2;\n",
              "      height: 32px;\n",
              "      padding: 0 0 0 0;\n",
              "      width: 32px;\n",
              "    }\n",
              "\n",
              "    .colab-df-convert:hover {\n",
              "      background-color: #E2EBFA;\n",
              "      box-shadow: 0px 1px 2px rgba(60, 64, 67, 0.3), 0px 1px 3px 1px rgba(60, 64, 67, 0.15);\n",
              "      fill: #174EA6;\n",
              "    }\n",
              "\n",
              "    .colab-df-buttons div {\n",
              "      margin-bottom: 4px;\n",
              "    }\n",
              "\n",
              "    [theme=dark] .colab-df-convert {\n",
              "      background-color: #3B4455;\n",
              "      fill: #D2E3FC;\n",
              "    }\n",
              "\n",
              "    [theme=dark] .colab-df-convert:hover {\n",
              "      background-color: #434B5C;\n",
              "      box-shadow: 0px 1px 3px 1px rgba(0, 0, 0, 0.15);\n",
              "      filter: drop-shadow(0px 1px 2px rgba(0, 0, 0, 0.3));\n",
              "      fill: #FFFFFF;\n",
              "    }\n",
              "  </style>\n",
              "\n",
              "    <script>\n",
              "      const buttonEl =\n",
              "        document.querySelector('#df-21523972-5239-4f96-8bac-b171574b4eb0 button.colab-df-convert');\n",
              "      buttonEl.style.display =\n",
              "        google.colab.kernel.accessAllowed ? 'block' : 'none';\n",
              "\n",
              "      async function convertToInteractive(key) {\n",
              "        const element = document.querySelector('#df-21523972-5239-4f96-8bac-b171574b4eb0');\n",
              "        const dataTable =\n",
              "          await google.colab.kernel.invokeFunction('convertToInteractive',\n",
              "                                                    [key], {});\n",
              "        if (!dataTable) return;\n",
              "\n",
              "        const docLinkHtml = 'Like what you see? Visit the ' +\n",
              "          '<a target=\"_blank\" href=https://colab.research.google.com/notebooks/data_table.ipynb>data table notebook</a>'\n",
              "          + ' to learn more about interactive tables.';\n",
              "        element.innerHTML = '';\n",
              "        dataTable['output_type'] = 'display_data';\n",
              "        await google.colab.output.renderOutput(dataTable, element);\n",
              "        const docLink = document.createElement('div');\n",
              "        docLink.innerHTML = docLinkHtml;\n",
              "        element.appendChild(docLink);\n",
              "      }\n",
              "    </script>\n",
              "  </div>\n",
              "\n",
              "\n",
              "    <div id=\"df-e40c0fcc-1742-4dc4-9e2b-4733f9003d36\">\n",
              "      <button class=\"colab-df-quickchart\" onclick=\"quickchart('df-e40c0fcc-1742-4dc4-9e2b-4733f9003d36')\"\n",
              "                title=\"Suggest charts\"\n",
              "                style=\"display:none;\">\n",
              "\n",
              "<svg xmlns=\"http://www.w3.org/2000/svg\" height=\"24px\"viewBox=\"0 0 24 24\"\n",
              "     width=\"24px\">\n",
              "    <g>\n",
              "        <path d=\"M19 3H5c-1.1 0-2 .9-2 2v14c0 1.1.9 2 2 2h14c1.1 0 2-.9 2-2V5c0-1.1-.9-2-2-2zM9 17H7v-7h2v7zm4 0h-2V7h2v10zm4 0h-2v-4h2v4z\"/>\n",
              "    </g>\n",
              "</svg>\n",
              "      </button>\n",
              "\n",
              "<style>\n",
              "  .colab-df-quickchart {\n",
              "      --bg-color: #E8F0FE;\n",
              "      --fill-color: #1967D2;\n",
              "      --hover-bg-color: #E2EBFA;\n",
              "      --hover-fill-color: #174EA6;\n",
              "      --disabled-fill-color: #AAA;\n",
              "      --disabled-bg-color: #DDD;\n",
              "  }\n",
              "\n",
              "  [theme=dark] .colab-df-quickchart {\n",
              "      --bg-color: #3B4455;\n",
              "      --fill-color: #D2E3FC;\n",
              "      --hover-bg-color: #434B5C;\n",
              "      --hover-fill-color: #FFFFFF;\n",
              "      --disabled-bg-color: #3B4455;\n",
              "      --disabled-fill-color: #666;\n",
              "  }\n",
              "\n",
              "  .colab-df-quickchart {\n",
              "    background-color: var(--bg-color);\n",
              "    border: none;\n",
              "    border-radius: 50%;\n",
              "    cursor: pointer;\n",
              "    display: none;\n",
              "    fill: var(--fill-color);\n",
              "    height: 32px;\n",
              "    padding: 0;\n",
              "    width: 32px;\n",
              "  }\n",
              "\n",
              "  .colab-df-quickchart:hover {\n",
              "    background-color: var(--hover-bg-color);\n",
              "    box-shadow: 0 1px 2px rgba(60, 64, 67, 0.3), 0 1px 3px 1px rgba(60, 64, 67, 0.15);\n",
              "    fill: var(--button-hover-fill-color);\n",
              "  }\n",
              "\n",
              "  .colab-df-quickchart-complete:disabled,\n",
              "  .colab-df-quickchart-complete:disabled:hover {\n",
              "    background-color: var(--disabled-bg-color);\n",
              "    fill: var(--disabled-fill-color);\n",
              "    box-shadow: none;\n",
              "  }\n",
              "\n",
              "  .colab-df-spinner {\n",
              "    border: 2px solid var(--fill-color);\n",
              "    border-color: transparent;\n",
              "    border-bottom-color: var(--fill-color);\n",
              "    animation:\n",
              "      spin 1s steps(1) infinite;\n",
              "  }\n",
              "\n",
              "  @keyframes spin {\n",
              "    0% {\n",
              "      border-color: transparent;\n",
              "      border-bottom-color: var(--fill-color);\n",
              "      border-left-color: var(--fill-color);\n",
              "    }\n",
              "    20% {\n",
              "      border-color: transparent;\n",
              "      border-left-color: var(--fill-color);\n",
              "      border-top-color: var(--fill-color);\n",
              "    }\n",
              "    30% {\n",
              "      border-color: transparent;\n",
              "      border-left-color: var(--fill-color);\n",
              "      border-top-color: var(--fill-color);\n",
              "      border-right-color: var(--fill-color);\n",
              "    }\n",
              "    40% {\n",
              "      border-color: transparent;\n",
              "      border-right-color: var(--fill-color);\n",
              "      border-top-color: var(--fill-color);\n",
              "    }\n",
              "    60% {\n",
              "      border-color: transparent;\n",
              "      border-right-color: var(--fill-color);\n",
              "    }\n",
              "    80% {\n",
              "      border-color: transparent;\n",
              "      border-right-color: var(--fill-color);\n",
              "      border-bottom-color: var(--fill-color);\n",
              "    }\n",
              "    90% {\n",
              "      border-color: transparent;\n",
              "      border-bottom-color: var(--fill-color);\n",
              "    }\n",
              "  }\n",
              "</style>\n",
              "\n",
              "      <script>\n",
              "        async function quickchart(key) {\n",
              "          const quickchartButtonEl =\n",
              "            document.querySelector('#' + key + ' button');\n",
              "          quickchartButtonEl.disabled = true;  // To prevent multiple clicks.\n",
              "          quickchartButtonEl.classList.add('colab-df-spinner');\n",
              "          try {\n",
              "            const charts = await google.colab.kernel.invokeFunction(\n",
              "                'suggestCharts', [key], {});\n",
              "          } catch (error) {\n",
              "            console.error('Error during call to suggestCharts:', error);\n",
              "          }\n",
              "          quickchartButtonEl.classList.remove('colab-df-spinner');\n",
              "          quickchartButtonEl.classList.add('colab-df-quickchart-complete');\n",
              "        }\n",
              "        (() => {\n",
              "          let quickchartButtonEl =\n",
              "            document.querySelector('#df-e40c0fcc-1742-4dc4-9e2b-4733f9003d36 button');\n",
              "          quickchartButtonEl.style.display =\n",
              "            google.colab.kernel.accessAllowed ? 'block' : 'none';\n",
              "        })();\n",
              "      </script>\n",
              "    </div>\n",
              "\n",
              "    </div>\n",
              "  </div>\n"
            ],
            "application/vnd.google.colaboratory.intrinsic+json": {
              "type": "dataframe",
              "variable_name": "df"
            }
          },
          "metadata": {},
          "execution_count": 34
        }
      ],
      "source": [
        "df = pd.read_csv('train.csv')\n",
        "df.head()"
      ]
    },
    {
      "cell_type": "code",
      "execution_count": null,
      "metadata": {
        "colab": {
          "base_uri": "https://localhost:8080/"
        },
        "id": "Pnpm_hNsLUMd",
        "outputId": "624e52cc-5c2b-4911-9a45-0090cc59ce45"
      },
      "outputs": [
        {
          "output_type": "stream",
          "name": "stderr",
          "text": [
            "[nltk_data] Downloading package punkt to /root/nltk_data...\n",
            "[nltk_data]   Package punkt is already up-to-date!\n",
            "[nltk_data] Downloading package stopwords to /root/nltk_data...\n",
            "[nltk_data]   Package stopwords is already up-to-date!\n",
            "[nltk_data] Downloading package wordnet to /root/nltk_data...\n",
            "[nltk_data]   Package wordnet is already up-to-date!\n"
          ]
        }
      ],
      "source": [
        "# Download required NLTK data\n",
        "try:\n",
        "    nltk.data.find('tokenizers/punkt')\n",
        "    nltk.data.find('corpora/stopwords')\n",
        "    nltk.data.find('corpora/wordnet')\n",
        "except LookupError:\n",
        "    nltk.download('punkt')\n",
        "    nltk.download('stopwords')\n",
        "    nltk.download('wordnet')\n"
      ]
    },
    {
      "cell_type": "code",
      "execution_count": null,
      "metadata": {
        "id": "euz-EMgaLdGT"
      },
      "outputs": [],
      "source": [
        "class QuoraClassifier:\n",
        "    def __init__(self):\n",
        "        self.vectorizer = None\n",
        "        self.model = None\n",
        "        self.stop_words = set(stopwords.words('english'))\n",
        "        self.lemmatizer = WordNetLemmatizer()\n",
        "\n",
        "    def preprocess_text(self, text):\n",
        "        \"\"\"\n",
        "        Comprehensive text preprocessing\n",
        "        \"\"\"\n",
        "        if pd.isna(text):\n",
        "            return \"\"\n"
      ]
    },
    {
      "cell_type": "markdown",
      "source": [
        "Data Cleaning is very critical phase in this stage we are cleaning the data."
      ],
      "metadata": {
        "id": "GwxeX3T6q53C"
      }
    },
    {
      "cell_type": "code",
      "execution_count": null,
      "metadata": {
        "colab": {
          "base_uri": "https://localhost:8080/"
        },
        "id": "y-2CmLGSMSD7",
        "outputId": "a52a9fba-dd45-4220-e6d5-8ff8ef9105cb"
      },
      "outputs": [
        {
          "output_type": "stream",
          "name": "stderr",
          "text": [
            "[nltk_data] Downloading package punkt to /root/nltk_data...\n",
            "[nltk_data]   Package punkt is already up-to-date!\n",
            "[nltk_data] Downloading package stopwords to /root/nltk_data...\n",
            "[nltk_data]   Package stopwords is already up-to-date!\n",
            "[nltk_data] Downloading package wordnet to /root/nltk_data...\n",
            "[nltk_data]   Package wordnet is already up-to-date!\n"
          ]
        }
      ],
      "source": [
        "import re\n",
        "import nltk\n",
        "from nltk.corpus import stopwords\n",
        "from nltk.tokenize import word_tokenize\n",
        "from nltk.stem import WordNetLemmatizer\n",
        "\n",
        "# Download necessary NLTK data (only once)\n",
        "nltk.download('punkt')\n",
        "nltk.download('stopwords')\n",
        "nltk.download('wordnet')\n",
        "\n",
        "# Initialize\n",
        "stop_words = set(stopwords.words('english'))\n",
        "lemmatizer = WordNetLemmatizer()\n",
        "\n",
        "def clean_text(text):\n",
        "    # Convert to lowercase\n",
        "    text = text.lower()\n",
        "\n",
        "    # Remove URLs\n",
        "    text = re.sub(r'http\\S+|www\\S+|https\\S+', '', text, flags=re.MULTILINE)\n",
        "\n",
        "    # Remove HTML tags\n",
        "    text = re.sub(r'<.*?>', '', text)\n",
        "\n",
        "    # Remove special characters and digits, keep only alphabets and spaces\n",
        "    text = re.sub(r'[^a-zA-Z\\s]', '', text)\n",
        "\n",
        "    # Remove extra whitespace\n",
        "    text = re.sub(r'\\s+', ' ', text).strip()\n",
        "\n",
        "    # Tokenize\n",
        "    tokens = word_tokenize(text)\n",
        "\n",
        "    # Remove stopwords and lemmatize\n",
        "    tokens = [lemmatizer.lemmatize(token) for token in tokens\n",
        "              if token not in stop_words and len(token) > 2]\n",
        "\n",
        "    return ' '.join(tokens)\n"
      ]
    },
    {
      "cell_type": "markdown",
      "source": [
        "Identifying The Columns"
      ],
      "metadata": {
        "id": "-iWzzdgErKPa"
      }
    },
    {
      "cell_type": "code",
      "execution_count": null,
      "metadata": {
        "id": "j-OAggJKM5GL"
      },
      "outputs": [],
      "source": [
        "def identify_columns(df):\n",
        "    # Check for common column names\n",
        "    text_cols = [col for col in df.columns if any(keyword in col.lower()\n",
        "                for keyword in ['question', 'text', 'content', 'query'])]\n",
        "\n",
        "    target_cols = [col for col in df.columns if any(keyword in col.lower()\n",
        "                  for keyword in ['target', 'label', 'insincere', 'sincere'])]\n",
        "\n",
        "    print(f\"\\nPossible text columns: {text_cols}\")\n",
        "    print(f\"Possible target columns: {target_cols}\")\n",
        "\n",
        "    return df\n"
      ]
    },
    {
      "cell_type": "markdown",
      "source": [
        "Exploring The Data"
      ],
      "metadata": {
        "id": "Qpvpw8knrQ_G"
      }
    },
    {
      "cell_type": "code",
      "execution_count": null,
      "metadata": {
        "id": "pzjjYvNyM_OB"
      },
      "outputs": [],
      "source": [
        "def analyze_data(self, df, text_col, target_col):\n",
        "        \"\"\"\n",
        "        Perform exploratory data analysis\n",
        "        \"\"\"\n",
        "        print(\"=== DATA ANALYSIS ===\")\n",
        "\n",
        "        # Basic statistics\n",
        "        print(f\"\\nDataset Info:\")\n",
        "        print(f\"Total samples: {len(df)}\")\n",
        "        print(f\"Missing values in text: {df[text_col].isna().sum()}\")\n",
        "        print(f\"Missing values in target: {df[target_col].isna().sum()}\")\n"
      ]
    },
    {
      "cell_type": "markdown",
      "source": [
        "Checking the Target Distribution Ratio."
      ],
      "metadata": {
        "id": "0A058UBKrrqs"
      }
    },
    {
      "cell_type": "code",
      "execution_count": null,
      "metadata": {
        "id": "V2046087NZ_p"
      },
      "outputs": [],
      "source": [
        "# Check target distribution and imbalance ratio\n",
        "def print_target_distribution(df, target_col):\n",
        "    target_counts = df[target_col].value_counts()\n",
        "    print(\"\\nTarget distribution:\")\n",
        "    print(target_counts)\n",
        "\n",
        "    # Check if there's more than one class to compute imbalance ratio\n",
        "    if len(target_counts) > 1:\n",
        "        imbalance_ratio = target_counts.max() / target_counts.min()\n",
        "        print(f\"Imbalance ratio: {imbalance_ratio:.2f}\")\n",
        "    else:\n",
        "        print(\"Only one class found. Cannot compute imbalance ratio.\")\n"
      ]
    },
    {
      "cell_type": "markdown",
      "source": [
        "Checking Text Length"
      ],
      "metadata": {
        "id": "gKPqeCdIr0x6"
      }
    },
    {
      "cell_type": "code",
      "execution_count": null,
      "metadata": {
        "id": "2aSdXFhdQH0e"
      },
      "outputs": [],
      "source": [
        "def analyze_text_length(df, text_col):\n",
        "    # Ensure the column exists and is treated as string\n",
        "    if text_col not in df.columns:\n",
        "        print(f\"Error: Column '{text_col}' not found in DataFrame.\")\n",
        "        return\n",
        "\n",
        "    df['text_length'] = df[text_col].astype(str).apply(len)\n",
        "    df['word_count'] = df[text_col].astype(str).apply(lambda x: len(x.split()))\n",
        "\n",
        "    print(\"\\nText Statistics:\")\n",
        "    print(f\"Average text length: {df['text_length'].mean():.2f}\")\n",
        "    print(f\"Average word count: {df['word_count'].mean():.2f}\")\n"
      ]
    },
    {
      "cell_type": "code",
      "execution_count": null,
      "metadata": {
        "colab": {
          "base_uri": "https://localhost:8080/"
        },
        "id": "25uWWHOYRVUq",
        "outputId": "831c30df-5d7a-4d6c-9fc2-a7b5bf15e0c5"
      },
      "outputs": [
        {
          "output_type": "stream",
          "name": "stdout",
          "text": [
            "Requirement already satisfied: matplotlib in /usr/local/lib/python3.11/dist-packages (3.10.0)\n",
            "Requirement already satisfied: seaborn in /usr/local/lib/python3.11/dist-packages (0.13.2)\n",
            "Requirement already satisfied: pandas in /usr/local/lib/python3.11/dist-packages (2.2.2)\n",
            "Requirement already satisfied: numpy in /usr/local/lib/python3.11/dist-packages (2.0.2)\n",
            "Requirement already satisfied: contourpy>=1.0.1 in /usr/local/lib/python3.11/dist-packages (from matplotlib) (1.3.2)\n",
            "Requirement already satisfied: cycler>=0.10 in /usr/local/lib/python3.11/dist-packages (from matplotlib) (0.12.1)\n",
            "Requirement already satisfied: fonttools>=4.22.0 in /usr/local/lib/python3.11/dist-packages (from matplotlib) (4.58.5)\n",
            "Requirement already satisfied: kiwisolver>=1.3.1 in /usr/local/lib/python3.11/dist-packages (from matplotlib) (1.4.8)\n",
            "Requirement already satisfied: packaging>=20.0 in /usr/local/lib/python3.11/dist-packages (from matplotlib) (24.2)\n",
            "Requirement already satisfied: pillow>=8 in /usr/local/lib/python3.11/dist-packages (from matplotlib) (11.2.1)\n",
            "Requirement already satisfied: pyparsing>=2.3.1 in /usr/local/lib/python3.11/dist-packages (from matplotlib) (3.2.3)\n",
            "Requirement already satisfied: python-dateutil>=2.7 in /usr/local/lib/python3.11/dist-packages (from matplotlib) (2.9.0.post0)\n",
            "Requirement already satisfied: pytz>=2020.1 in /usr/local/lib/python3.11/dist-packages (from pandas) (2025.2)\n",
            "Requirement already satisfied: tzdata>=2022.7 in /usr/local/lib/python3.11/dist-packages (from pandas) (2025.2)\n",
            "Requirement already satisfied: six>=1.5 in /usr/local/lib/python3.11/dist-packages (from python-dateutil>=2.7->matplotlib) (1.17.0)\n"
          ]
        }
      ],
      "source": [
        "pip install matplotlib seaborn pandas numpy\n"
      ]
    },
    {
      "cell_type": "markdown",
      "source": [
        "Visualyzing Text Classification Data"
      ],
      "metadata": {
        "id": "CryHON89sBJM"
      }
    },
    {
      "cell_type": "code",
      "execution_count": null,
      "metadata": {
        "id": "_S0LC-pmSw3A"
      },
      "outputs": [],
      "source": [
        "def visualize_text_classification_data(df, target_col='target'):\n",
        "    # Check if required columns exist\n",
        "    if 'question_text' not in df.columns:\n",
        "        raise ValueError(\"Missing required column: 'question_text'\")\n",
        "    if target_col not in df.columns:\n",
        "        raise ValueError(f\"Missing target column: '{target_col}'\")\n",
        "\n",
        "    # Create text_length and word_count\n",
        "    if 'text_length' not in df.columns:\n",
        "        df['text_length'] = df['question_text'].astype(str).apply(len)\n",
        "\n",
        "    if 'word_count' not in df.columns:\n",
        "        df['word_count'] = df['question_text'].astype(str).apply(lambda x: len(x.split()))\n",
        "\n",
        "    # Target distribution\n",
        "    target_counts = df[target_col].value_counts()\n",
        "    print(\"\\nTarget distribution:\")\n",
        "    print(target_counts)\n",
        "\n",
        "    if len(target_counts) > 1:\n",
        "        print(f\"Imbalance ratio: {target_counts.max() / target_counts.min():.2f}\")\n",
        "    else:\n",
        "        print(\"Only one class found. Cannot compute imbalance ratio.\")\n",
        "\n",
        "    # Visualization\n",
        "    fig, axes = plt.subplots(2, 2, figsize=(15, 10))\n",
        "\n",
        "    # Plot 1: Target distribution\n",
        "    target_counts.plot(kind='bar', ax=axes[0, 0], color='skyblue')\n",
        "    axes[0, 0].set_title('Target Distribution')\n",
        "    axes[0, 0].set_xlabel('Class')\n",
        "    axes[0, 0].set_ylabel('Count')\n",
        "\n",
        "    # Plot 2: Text length by class\n",
        "    df.boxplot(column='text_length', by=target_col, ax=axes[0, 1])\n",
        "    axes[0, 1].set_title('Text Length by Class')\n",
        "    axes[0, 1].set_ylabel('Text Length')\n",
        "    axes[0, 1].set_xlabel('')\n",
        "\n",
        "    # Plot 3: Word count by class\n",
        "    df.boxplot(column='word_count', by=target_col, ax=axes[1, 0])\n",
        "    axes[1, 0].set_title('Word Count by Class')\n",
        "    axes[1, 0].set_ylabel('Word Count')\n",
        "    axes[1, 0].set_xlabel('')\n",
        "\n",
        "    # Plot 4: Correlation matrix\n",
        "    numeric_cols = df.select_dtypes(include=[np.number]).columns\n",
        "    if len(numeric_cols) > 1:\n",
        "        corr_matrix = df[numeric_cols].corr()\n",
        "        sns.heatmap(corr_matrix, annot=True, cmap='coolwarm', ax=axes[1, 1])\n",
        "        axes[1, 1].set_title('Correlation Matrix')\n",
        "    else:\n",
        "        axes[1, 1].axis('off')\n",
        "        axes[1, 1].set_title('No numeric columns for correlation')\n",
        "\n",
        "    plt.tight_layout()\n",
        "    plt.suptitle('', y=1.02)\n",
        "    plt.show()\n",
        "\n",
        "    return df\n"
      ]
    },
    {
      "cell_type": "code",
      "execution_count": null,
      "metadata": {
        "colab": {
          "base_uri": "https://localhost:8080/"
        },
        "id": "aH0EMH7LSWT-",
        "outputId": "b19fa083-8ce8-477e-bc69-6f3a74b84a9b"
      },
      "outputs": [
        {
          "output_type": "stream",
          "name": "stdout",
          "text": [
            "                    qid                                      question_text  \\\n",
            "0  00002165364db923c7e6  How did Quebec nationalists see their province...   \n",
            "1  000032939017120e6e44  Do you have an adopted dog, how would you enco...   \n",
            "2  0000412ca6e4628ce2cf  Why does velocity affect time? Does velocity a...   \n",
            "3  000042bf85aa498cd78e  How did Otto von Guericke used the Magdeburg h...   \n",
            "4  0000455dfa3e01eae3af  Can I convert montra helicon D to a mountain b...   \n",
            "\n",
            "   target  \n",
            "0       0  \n",
            "1       0  \n",
            "2       0  \n",
            "3       0  \n",
            "4       0  \n",
            "Index(['qid', 'question_text', 'target'], dtype='object')\n"
          ]
        }
      ],
      "source": [
        "print(df.head())\n",
        "print(df.columns)\n"
      ]
    },
    {
      "cell_type": "code",
      "execution_count": null,
      "metadata": {
        "colab": {
          "base_uri": "https://localhost:8080/",
          "height": 933
        },
        "id": "765QzWK-Szf5",
        "outputId": "327b19d5-70d6-44c2-97f2-c6c64c55d9ce"
      },
      "outputs": [
        {
          "output_type": "stream",
          "name": "stdout",
          "text": [
            "\n",
            "Target distribution:\n",
            "target\n",
            "0    1225312\n",
            "1      80810\n",
            "Name: count, dtype: int64\n",
            "Imbalance ratio: 15.16\n"
          ]
        },
        {
          "output_type": "display_data",
          "data": {
            "text/plain": [
              "<Figure size 1500x1000 with 5 Axes>"
            ],
            "image/png": "[encoded data removed]"
          },
          "metadata": {}
        }
      ],
      "source": [
        "df = visualize_text_classification_data(df, target_col='target')\n"
      ]
    },
    {
      "cell_type": "code",
      "execution_count": null,
      "metadata": {
        "id": "fZ6syTNkTHeC"
      },
      "outputs": [],
      "source": [
        "def preprocess_text(text):\n",
        "    # your cleaning code\n",
        "    text = text.lower()\n",
        "    text = re.sub(r'http\\S+|www\\S+|https\\S+', '', text, flags=re.MULTILINE)\n",
        "    text = re.sub(r'<.*?>', '', text)\n",
        "    text = re.sub(r'[^a-zA-Z\\s]', '', text)\n",
        "    text = re.sub(r'\\s+', ' ', text).strip()\n",
        "\n",
        "    tokens = word_tokenize(text)\n",
        "    tokens = [lemmatizer.lemmatize(token) for token in tokens\n",
        "              if token not in stop_words and len(token) > 2]\n",
        "    return ' '.join(tokens)\n"
      ]
    },
    {
      "cell_type": "code",
      "execution_count": null,
      "metadata": {
        "colab": {
          "base_uri": "https://localhost:8080/"
        },
        "id": "eeJQPTUzTpQe",
        "outputId": "c5ef0580-867d-4c04-86a7-8307b5366ed7"
      },
      "outputs": [
        {
          "output_type": "stream",
          "name": "stderr",
          "text": [
            "[nltk_data] Downloading package punkt to /root/nltk_data...\n",
            "[nltk_data]   Package punkt is already up-to-date!\n",
            "[nltk_data] Downloading package stopwords to /root/nltk_data...\n",
            "[nltk_data]   Package stopwords is already up-to-date!\n",
            "[nltk_data] Downloading package wordnet to /root/nltk_data...\n",
            "[nltk_data]   Package wordnet is already up-to-date!\n"
          ]
        }
      ],
      "source": [
        "import re\n",
        "import nltk\n",
        "from nltk.tokenize import word_tokenize\n",
        "from nltk.corpus import stopwords\n",
        "from nltk.stem import WordNetLemmatizer\n",
        "\n",
        "# Make sure these are downloaded\n",
        "nltk.download('punkt')\n",
        "nltk.download('stopwords')\n",
        "nltk.download('wordnet')\n",
        "\n",
        "# Initialize\n",
        "lemmatizer = WordNetLemmatizer()\n",
        "stop_words = set(stopwords.words('english'))\n",
        "\n",
        "# Define the function\n",
        "def preprocess_text(text):\n",
        "    text = text.lower()\n",
        "    text = re.sub(r'http\\S+|www\\S+|https\\S+', '', text, flags=re.MULTILINE)\n",
        "    text = re.sub(r'<.*?>', '', text)\n",
        "    text = re.sub(r'[^a-zA-Z\\s]', '', text)\n",
        "    text = re.sub(r'\\s+', ' ', text).strip()\n",
        "    tokens = word_tokenize(text)\n",
        "    tokens = [lemmatizer.lemmatize(token) for token in tokens\n",
        "              if token not in stop_words and len(token) > 2]\n",
        "    return ' '.join(tokens)\n"
      ]
    },
    {
      "cell_type": "code",
      "execution_count": null,
      "metadata": {
        "id": "9uPmlxo8zWZ2"
      },
      "outputs": [],
      "source": [
        "!rm -rf /root/nltk_data/tokenizers/punkt\n"
      ]
    },
    {
      "cell_type": "code",
      "execution_count": null,
      "metadata": {
        "colab": {
          "base_uri": "https://localhost:8080/"
        },
        "id": "3cRoZrdmzZUx",
        "outputId": "ddb0f7aa-d07f-4920-ba5e-a66de3c7a732"
      },
      "outputs": [
        {
          "output_type": "execute_result",
          "data": {
            "text/plain": [
              "True"
            ]
          },
          "metadata": {},
          "execution_count": 48
        }
      ],
      "source": [
        "import nltk\n",
        "nltk.download('punkt', force=True, quiet=True)\n"
      ]
    },
    {
      "cell_type": "code",
      "execution_count": null,
      "metadata": {
        "id": "dyOOgHAr0rHM"
      },
      "outputs": [],
      "source": [
        "import re\n",
        "def simple_preprocess(text):\n",
        "    text = str(text).lower()\n",
        "    text = re.sub(r\"http\\S+|www\\S+|https\\S+\", \"\", text)\n",
        "    text = re.sub(r\"<.*?>\", \"\", text)\n",
        "    text = re.sub(r\"[^a-zA-Z\\s]\", \"\", text)\n",
        "    text = re.sub(r\"\\s+\", \" \", text).strip()\n",
        "    return text\n"
      ]
    },
    {
      "cell_type": "markdown",
      "source": [
        "Dropping Missing Value from the dataframe"
      ],
      "metadata": {
        "id": "5kdonbd_sf1F"
      }
    },
    {
      "cell_type": "code",
      "execution_count": null,
      "metadata": {
        "colab": {
          "base_uri": "https://localhost:8080/"
        },
        "id": "Iy28jX7a65mI",
        "outputId": "35cee106-4eda-44df-bee7-90a04a68e5c8"
      },
      "outputs": [
        {
          "output_type": "stream",
          "name": "stdout",
          "text": [
            "Rows left after cleaning: 1306114\n"
          ]
        }
      ],
      "source": [
        "# ✅ Step 1: Drop missing rows from the original DataFrame\n",
        "df_clean = df.dropna(subset=['question_text', 'target']).copy()\n",
        "\n",
        "# ✅ Step 2: Apply simple (non-NLTK) preprocessing\n",
        "df_clean['processed_text'] = df_clean['question_text'].astype(str).apply(simple_preprocess)\n",
        "\n",
        "# ✅ Step 3: Remove rows with empty processed text\n",
        "df_clean = df_clean[df_clean['processed_text'].str.strip().str.len() > 0]\n",
        "\n",
        "# ✅ Step 4: Check how many rows are left\n",
        "print(\"Rows left after cleaning:\", df_clean.shape[0])\n"
      ]
    },
    {
      "cell_type": "markdown",
      "source": [
        "Importing Model Selection"
      ],
      "metadata": {
        "id": "cK6P8dXctCRc"
      }
    },
    {
      "cell_type": "code",
      "execution_count": null,
      "metadata": {
        "colab": {
          "base_uri": "https://localhost:8080/"
        },
        "id": "pgpfyPKA7-AE",
        "outputId": "bdc1d411-461a-4590-8d20-fedb4da4b6f8"
      },
      "outputs": [
        {
          "output_type": "stream",
          "name": "stdout",
          "text": [
            "Train size: 1044891, Test size: 261223\n"
          ]
        }
      ],
      "source": [
        "from sklearn.model_selection import train_test_split\n",
        "\n",
        "X = df_clean['processed_text']\n",
        "y = df_clean['target']\n",
        "\n",
        "X_train, X_test, y_train, y_test = train_test_split(\n",
        "    X, y, test_size=0.2, random_state=42, stratify=y if y.nunique() > 1 else None\n",
        ")\n",
        "\n",
        "print(f\"Train size: {len(X_train)}, Test size: {len(X_test)}\")\n"
      ]
    },
    {
      "cell_type": "code",
      "execution_count": null,
      "metadata": {
        "id": "ojZKF2rZjLiH"
      },
      "outputs": [],
      "source": [
        "from sklearn.linear_model import LogisticRegression\n",
        "from sklearn.naive_bayes import MultinomialNB\n",
        "from sklearn.svm import LinearSVC\n",
        "\n",
        "models = {\n",
        "    'Logistic Regression': LogisticRegression(random_state=42, max_iter=1000),\n",
        "    'Naive Bayes': MultinomialNB(),\n",
        "    'Linear SVM': LinearSVC(random_state=42)\n",
        "\n",
        "}\n"
      ]
    },
    {
      "cell_type": "code",
      "execution_count": null,
      "metadata": {
        "colab": {
          "base_uri": "https://localhost:8080/"
        },
        "id": "tjhHPN828Cxz",
        "outputId": "88e1b228-40ac-461d-a7e2-d3a77c9c2971"
      },
      "outputs": [
        {
          "output_type": "stream",
          "name": "stdout",
          "text": [
            "Training Logistic Regression...\n",
            "Logistic Regression Accuracy: 0.9493\n",
            "Training Naive Bayes...\n",
            "Naive Bayes Accuracy: 0.9452\n"
          ]
        }
      ],
      "source": [
        "from sklearn.feature_extraction.text import TfidfVectorizer\n",
        "from sklearn.metrics import accuracy_score\n",
        "\n",
        "# Step 1: Define vectorizer\n",
        "vectorizer = TfidfVectorizer(max_features=3000, ngram_range=(1, 2))\n",
        "\n",
        "# Step 2: Transform train and test sets\n",
        "X_train_vec = vectorizer.fit_transform(X_train)\n",
        "X_test_vec = vectorizer.transform(X_test)\n",
        "\n",
        "# Step 3: Define models\n",
        "from sklearn.linear_model import LogisticRegression\n",
        "from sklearn.naive_bayes import MultinomialNB\n",
        "\n",
        "models = {\n",
        "    'Logistic Regression': LogisticRegression(random_state=42, max_iter=1000),\n",
        "    'Naive Bayes': MultinomialNB()\n",
        "}\n",
        "\n",
        "# Step 4: Train and evaluate\n",
        "for name, model in models.items():\n",
        "    print(f\"Training {name}...\")\n",
        "    model.fit(X_train_vec, y_train)\n",
        "    preds = model.predict(X_test_vec)\n",
        "    acc = accuracy_score(y_test, preds)\n",
        "    print(f\"{name} Accuracy: {acc:.4f}\")\n"
      ]
    },
    {
      "cell_type": "code",
      "execution_count": null,
      "metadata": {
        "id": "sTywf2Ck0Vvv"
      },
      "outputs": [],
      "source": [
        "from sklearn.feature_extraction.text import TfidfVectorizer\n",
        "\n",
        "# ✅ Define the vectorizer here\n",
        "vectorizer = TfidfVectorizer(max_features=3000, ngram_range=(1, 2))\n"
      ]
    },
    {
      "cell_type": "code",
      "execution_count": null,
      "metadata": {
        "colab": {
          "base_uri": "https://localhost:8080/"
        },
        "id": "24FYbqc56-nC",
        "outputId": "4a6cb4fa-3af2-4447-b203-4a4dd05dce1b"
      },
      "outputs": [
        {
          "output_type": "stream",
          "name": "stdout",
          "text": [
            "Linear SVM Accuracy: 0.9404455197283547\n"
          ]
        }
      ],
      "source": [
        "from sklearn.feature_extraction.text import TfidfVectorizer\n",
        "from sklearn.svm import LinearSVC\n",
        "from sklearn.metrics import accuracy_score\n",
        "\n",
        "# ✅ Sample smaller training data just for SVM\n",
        "sample_idx = X_train.sample(n=3000, random_state=42).index\n",
        "\n",
        "X_train_small = X_train.loc[sample_idx]\n",
        "y_train_small = y_train.loc[sample_idx]\n",
        "\n",
        "# ✅ Define the vectorizer\n",
        "vectorizer = TfidfVectorizer(max_features=3000, ngram_range=(1, 2))\n",
        "X_train_vec_small = vectorizer.fit_transform(X_train_small)\n",
        "X_test_vec = vectorizer.transform(X_test)\n",
        "\n",
        "# ✅ Train SVM\n",
        "model = LinearSVC(random_state=42)\n",
        "model.fit(X_train_vec_small, y_train_small)\n",
        "preds = model.predict(X_test_vec)\n",
        "\n",
        "# ✅ Evaluate\n",
        "print(\"Linear SVM Accuracy:\", accuracy_score(y_test, preds))\n"
      ]
    },
    {
      "cell_type": "code",
      "execution_count": null,
      "metadata": {
        "id": "32nQhuqS9rqE"
      },
      "outputs": [],
      "source": [
        "vectorizers = {\n",
        "    'TF-IDF': TfidfVectorizer(max_features=3000, ngram_range=(1, 2)),\n",
        "    'Count': CountVectorizer(max_features=3000, ngram_range=(1, 2))\n",
        "}\n"
      ]
    },
    {
      "cell_type": "code",
      "execution_count": null,
      "metadata": {
        "id": "8lOyzNOG9tVM"
      },
      "outputs": [],
      "source": [
        "models = {\n",
        "    'Logistic Regression': LogisticRegression(random_state=42, max_iter=1000),\n",
        "    'Naive Bayes': MultinomialNB(),\n",
        "    'Linear SVM': LinearSVC(random_state=42)\n",
        "}"
      ]
    },
    {
      "cell_type": "code",
      "execution_count": null,
      "metadata": {
        "colab": {
          "base_uri": "https://localhost:8080/"
        },
        "id": "m9JJwyj69hCh",
        "outputId": "36c9c050-4446-4829-fc69-80291ba82660"
      },
      "outputs": [
        {
          "output_type": "stream",
          "name": "stdout",
          "text": [
            "\n",
            "--- Using TF-IDF Vectorizer ---\n",
            "Training Logistic Regression...\n",
            "CV Accuracy: 0.9495 (+/- 0.0005)\n",
            "Training Naive Bayes...\n",
            "CV Accuracy: 0.9454 (+/- 0.0005)\n",
            "Training Linear SVM...\n",
            "CV Accuracy: 0.9492 (+/- 0.0006)\n",
            "\n",
            "--- Using Count Vectorizer ---\n",
            "Training Logistic Regression...\n",
            "CV Accuracy: 0.9496 (+/- 0.0004)\n",
            "Training Naive Bayes...\n",
            "CV Accuracy: 0.8984 (+/- 0.0015)\n",
            "Training Linear SVM...\n",
            "CV Accuracy: 0.9494 (+/- 0.0004)\n"
          ]
        }
      ],
      "source": [
        "from sklearn.pipeline import Pipeline\n",
        "from sklearn.model_selection import cross_val_score\n",
        "\n",
        "results = {}\n",
        "\n",
        "for vec_name, vectorizer in vectorizers.items():\n",
        "    print(f\"\\n--- Using {vec_name} Vectorizer ---\")\n",
        "\n",
        "    for model_name, model in models.items():\n",
        "        print(f\"Training {model_name}...\")\n",
        "\n",
        "        # ✅ Create pipeline\n",
        "        pipeline = Pipeline([\n",
        "            ('vectorizer', vectorizer),\n",
        "            ('classifier', model)\n",
        "        ])\n",
        "\n",
        "        # ✅ Cross-validation\n",
        "        cv_scores = cross_val_score(pipeline, X_train, y_train,\n",
        "                                    cv=5, scoring='accuracy', n_jobs=-1)\n",
        "\n",
        "        # ✅ Save results\n",
        "        results[f\"{vec_name}_{model_name}\"] = {\n",
        "            'pipeline': pipeline,\n",
        "            'cv_mean': cv_scores.mean(),\n",
        "            'cv_std': cv_scores.std()\n",
        "        }\n",
        "\n",
        "        print(f\"CV Accuracy: {cv_scores.mean():.4f} (+/- {cv_scores.std() * 2:.4f})\")\n"
      ]
    },
    {
      "cell_type": "code",
      "execution_count": null,
      "metadata": {
        "colab": {
          "base_uri": "https://localhost:8080/"
        },
        "id": "ZSJALJcKGmBi",
        "outputId": "0a0d4843-3273-4085-daec-6ea001b3a653"
      },
      "outputs": [
        {
          "output_type": "stream",
          "name": "stdout",
          "text": [
            "\n",
            "Best model: Count_Logistic Regression\n",
            "Best CV accuracy: 0.9496\n"
          ]
        }
      ],
      "source": [
        "# ✅ Find best model based on CV score\n",
        "best_model_name = max(results.keys(), key=lambda x: results[x]['cv_mean'])\n",
        "best_pipeline = results[best_model_name]['pipeline']\n",
        "\n",
        "print(f\"\\nBest model: {best_model_name}\")\n",
        "print(f\"Best CV accuracy: {results[best_model_name]['cv_mean']:.4f}\")\n",
        "\n",
        "# ✅ Train best model on full training set\n",
        "best_pipeline.fit(X_train, y_train)\n",
        "\n",
        "# ✅ Optionally store or return\n",
        "model = best_pipeline\n"
      ]
    },
    {
      "cell_type": "code",
      "execution_count": null,
      "metadata": {
        "id": "lZDdvwowHRHu"
      },
      "outputs": [],
      "source": [
        "def train_model(self, X_train, y_train, results):\n",
        "    # Find best model\n",
        "    best_model_name = max(results.keys(), key=lambda x: results[x]['cv_mean'])\n",
        "    best_pipeline = results[best_model_name]['pipeline']\n",
        "\n",
        "    print(f\"\\nBest model: {best_model_name}\")\n",
        "    print(f\"Best CV accuracy: {results[best_model_name]['cv_mean']:.4f}\")\n",
        "\n",
        "    # Train on full data\n",
        "    best_pipeline.fit(X_train, y_train)\n",
        "\n",
        "    self.model = best_pipeline\n",
        "    return results, best_pipeline\n"
      ]
    },
    {
      "cell_type": "markdown",
      "source": [
        "Checking Classification Report"
      ],
      "metadata": {
        "id": "PoILZFcP9H7p"
      }
    },
    {
      "cell_type": "code",
      "execution_count": null,
      "metadata": {
        "colab": {
          "base_uri": "https://localhost:8080/"
        },
        "id": "zxZQD1ctH2Lm",
        "outputId": "cb524d58-19c8-4ea9-c885-01da59303dc4"
      },
      "outputs": [
        {
          "output_type": "stream",
          "name": "stdout",
          "text": [
            "Test Accuracy: 0.9494\n",
            "Test AUC: 0.9269\n",
            "\n",
            "Classification Report:\n",
            "              precision    recall  f1-score   support\n",
            "\n",
            "           0       0.96      0.99      0.97    245062\n",
            "           1       0.67      0.36      0.47     16161\n",
            "\n",
            "    accuracy                           0.95    261223\n",
            "   macro avg       0.81      0.67      0.72    261223\n",
            "weighted avg       0.94      0.95      0.94    261223\n",
            "\n",
            "\n",
            "Confusion Matrix:\n",
            "[[242174   2888]\n",
            " [ 10318   5843]]\n"
          ]
        }
      ],
      "source": [
        "from sklearn.metrics import accuracy_score, roc_auc_score, classification_report, confusion_matrix\n",
        "\n",
        "# Predict on test set\n",
        "y_pred = best_pipeline.predict(X_test)\n",
        "y_pred_proba = best_pipeline.predict_proba(X_test)[:, 1]  # Only if classifier supports probability\n",
        "\n",
        "# Evaluation metrics\n",
        "accuracy = accuracy_score(y_test, y_pred)\n",
        "auc_score = roc_auc_score(y_test, y_pred_proba)\n",
        "\n",
        "print(f\"Test Accuracy: {accuracy:.4f}\")\n",
        "print(f\"Test AUC: {auc_score:.4f}\")\n",
        "\n",
        "# Classification report\n",
        "print(\"\\nClassification Report:\")\n",
        "print(classification_report(y_test, y_pred))\n",
        "\n",
        "# Confusion matrix\n",
        "cm = confusion_matrix(y_test, y_pred)\n",
        "print(\"\\nConfusion Matrix:\")\n",
        "print(cm)\n"
      ]
    },
    {
      "cell_type": "markdown",
      "source": [
        "Visualization Of Model comparison CV Accuracy"
      ],
      "metadata": {
        "id": "vmZAyxe88zdI"
      }
    },
    {
      "cell_type": "code",
      "execution_count": null,
      "metadata": {
        "colab": {
          "base_uri": "https://localhost:8080/",
          "height": 358
        },
        "id": "kRmJejypI2Qp",
        "outputId": "e8b48ffe-d95f-4caa-9054-6a192b2443d6"
      },
      "outputs": [
        {
          "output_type": "display_data",
          "data": {
            "text/plain": [
              "<Figure size 1800x500 with 3 Axes>"
            ],
            "image/png": "[encoded data removed]"
          },
          "metadata": {}
        }
      ],
      "source": [
        "import matplotlib.pyplot as plt\n",
        "\n",
        "# ✅ Visualizations\n",
        "fig, axes = plt.subplots(1, 3, figsize=(18, 5))\n",
        "\n",
        "# ✅ Model comparison\n",
        "model_names = []\n",
        "cv_scores = []\n",
        "for name, result in results.items():\n",
        "    model_names.append(name.replace('_', '\\n'))\n",
        "    cv_scores.append(result['cv_mean'])\n",
        "\n",
        "axes[0].bar(range(len(model_names)), cv_scores)\n",
        "axes[0].set_xticks(range(len(model_names)))\n",
        "axes[0].set_xticklabels(model_names, rotation=45, ha='right')\n",
        "axes[0].set_title('Model Comparison (CV Accuracy)')\n",
        "axes[0].set_ylabel('Accuracy')\n",
        "\n",
        "# ✅ Fill remaining subplots or hide them if unused\n",
        "axes[1].axis('off')\n",
        "axes[2].axis('off')\n",
        "\n",
        "plt.tight_layout()\n",
        "plt.show()\n"
      ]
    },
    {
      "cell_type": "markdown",
      "source": [
        "Visualization Of Confutition Matrix Result."
      ],
      "metadata": {
        "id": "bMaAtiWp8eEb"
      }
    },
    {
      "cell_type": "code",
      "execution_count": null,
      "metadata": {
        "colab": {
          "base_uri": "https://localhost:8080/",
          "height": 507
        },
        "id": "-1KOgzBpJ3vT",
        "outputId": "d582ea87-c1aa-4147-d428-5fa9dc2d2ac3"
      },
      "outputs": [
        {
          "output_type": "display_data",
          "data": {
            "text/plain": [
              "<Figure size 600x500 with 2 Axes>"
            ],
            "image/png": "[encoded data removed]"
          },
          "metadata": {}
        }
      ],
      "source": [
        "import matplotlib.pyplot as plt\n",
        "import seaborn as sns\n",
        "from sklearn.metrics import confusion_matrix\n",
        "\n",
        "# ✅ Make predictions using your best model (already trained)\n",
        "y_pred = best_pipeline.predict(X_test)\n",
        "\n",
        "# ✅ Compute confusion matrix\n",
        "cm = confusion_matrix(y_test, y_pred)\n",
        "\n",
        "# ✅ Plot the confusion matrix\n",
        "fig, ax = plt.subplots(figsize=(6, 5))\n",
        "sns.heatmap(cm, annot=True, fmt='d', cmap='Blues', ax=ax)\n",
        "ax.set_title('Confusion Matrix')\n",
        "ax.set_xlabel('Predicted')\n",
        "ax.set_ylabel('Actual')\n",
        "\n",
        "plt.tight_layout()\n",
        "plt.show()\n"
      ]
    },
    {
      "cell_type": "markdown",
      "source": [
        "Visualizing Roc and Auc curve."
      ],
      "metadata": {
        "id": "1YcPdxjP8E-E"
      }
    },
    {
      "cell_type": "code",
      "execution_count": null,
      "metadata": {
        "colab": {
          "base_uri": "https://localhost:8080/",
          "height": 542
        },
        "id": "aC33a46PKfuh",
        "outputId": "72f3032f-4201-46c6-8ef1-b2f0d01931ac"
      },
      "outputs": [
        {
          "output_type": "display_data",
          "data": {
            "text/plain": [
              "<Figure size 600x500 with 1 Axes>"
            ],
            "image/png": "[encoded data removed]"
          },
          "metadata": {}
        },
        {
          "output_type": "stream",
          "name": "stdout",
          "text": [
            "Accuracy: 0.9494454929313269\n",
            "AUC Score: 0.9268933325415237\n"
          ]
        }
      ],
      "source": [
        "import matplotlib.pyplot as plt\n",
        "from sklearn.metrics import roc_curve, roc_auc_score\n",
        "\n",
        "# ✅ Get predicted probabilities (works only if model supports `predict_proba`)\n",
        "y_pred_proba = best_pipeline.predict_proba(X_test)[:, 1]\n",
        "\n",
        "# ✅ Compute AUC score\n",
        "auc_score = roc_auc_score(y_test, y_pred_proba)\n",
        "\n",
        "# ✅ Compute ROC curve\n",
        "fpr, tpr, _ = roc_curve(y_test, y_pred_proba)\n",
        "\n",
        "# ✅ Plot\n",
        "fig, ax = plt.subplots(figsize=(6, 5))\n",
        "ax.plot(fpr, tpr, label=f'ROC Curve (AUC = {auc_score:.3f})')\n",
        "ax.plot([0, 1], [0, 1], 'k--', label='Random')\n",
        "ax.set_xlabel('False Positive Rate')\n",
        "ax.set_ylabel('True Positive Rate')\n",
        "ax.set_title('ROC Curve')\n",
        "ax.legend()\n",
        "ax.grid(True)\n",
        "\n",
        "plt.tight_layout()\n",
        "plt.show()\n",
        "\n",
        "# ✅ Optionally return values\n",
        "print(\"Accuracy:\", accuracy_score(y_test, best_pipeline.predict(X_test)))\n",
        "print(\"AUC Score:\", auc_score)\n"
      ]
    },
    {
      "cell_type": "code",
      "execution_count": null,
      "metadata": {
        "id": "AqMkRVQ_Lzb6"
      },
      "outputs": [],
      "source": [
        "class QuestionClassifier:\n",
        "    def hyperparameter_tuning(self, X_train, y_train):\n",
        "        \"\"\"\n",
        "        Perform hyperparameter tuning on the best model\n",
        "        \"\"\"\n",
        "        print(\"=== HYPERPARAMETER TUNING ===\")\n",
        "\n",
        "        param_grids = {\n",
        "            'Logistic Regression': {\n",
        "                'vectorizer__max_features': [5000, 10000, 20000],\n",
        "                'vectorizer__ngram_range': [(1, 1), (1, 2), (1, 3)],\n",
        "                'classifier__C': [0.1, 1, 10]\n",
        "            },\n",
        "            'Random Forest': {\n",
        "                'vectorizer__max_features': [5000, 10000],\n",
        "                'vectorizer__ngram_range': [(1, 1), (1, 2)],\n",
        "                'classifier__n_estimators': [50, 100, 200],\n",
        "                'classifier__max_depth': [10, 20, None]\n",
        "            }\n",
        "        }\n",
        "\n",
        "        pipelines = {\n",
        "            'Logistic Regression': Pipeline([\n",
        "                ('vectorizer', TfidfVectorizer()),\n",
        "                ('classifier', LogisticRegression(random_state=42, max_iter=1000))\n",
        "            ]),\n",
        "            'Random Forest': Pipeline([\n",
        "                ('vectorizer', TfidfVectorizer()),\n",
        "                ('classifier', RandomForestClassifier(random_state=42))\n",
        "            ])\n",
        "        }\n",
        "\n",
        "        best_score = 0\n",
        "        best_model = None\n",
        "\n",
        "        for model_name in ['Logistic Regression', 'Random Forest']:\n",
        "            print(f\"\\nTuning {model_name}...\")\n",
        "\n",
        "            grid_search = GridSearchCV(\n",
        "                pipelines[model_name],\n",
        "                param_grids[model_name],\n",
        "                cv=3,\n",
        "                scoring='accuracy',\n",
        "                n_jobs=-1,\n",
        "                verbose=1\n",
        "            )\n",
        "            grid_search.fit(X_train, y_train)\n",
        "\n",
        "            print(f\"Best score: {grid_search.best_score_:.4f}\")\n",
        "            print(f\"Best params: {grid_search.best_params_}\")\n",
        "\n",
        "            if grid_search.best_score_ > best_score:\n",
        "                best_score = grid_search.best_score_\n",
        "                best_model = grid_search.best_estimator_\n",
        "\n",
        "        self.model = best_model\n",
        "        return best_model\n",
        "\n",
        "    def predict_new_questions(self, questions):\n",
        "        \"\"\"\n",
        "        Predict on new questions\n",
        "        \"\"\"\n",
        "        if self.model is None:\n",
        "            print(\"No model trained yet!\")\n",
        "            return\n",
        "\n",
        "        processed_questions = [self.preprocess_text(q) for q in questions]\n",
        "        predictions = self.model.predict(processed_questions)\n",
        "        probabilities = self.model.predict_proba(processed_questions)\n",
        "\n",
        "        results = []\n",
        "        for i, question in enumerate(questions):\n",
        "            results.append({\n",
        "                'question': question,\n",
        "                'prediction': predictions[i],\n",
        "                'probability_sincere': probabilities[i][0],\n",
        "                'probability_insincere': probabilities[i][1]\n",
        "            })\n",
        "\n",
        "        return results\n"
      ]
    },
    {
      "cell_type": "code",
      "execution_count": null,
      "metadata": {
        "id": "fFD5zTHAPiFf"
      },
      "outputs": [],
      "source": [
        "from sklearn.pipeline import Pipeline\n",
        "from sklearn.model_selection import GridSearchCV\n",
        "from sklearn.feature_extraction.text import TfidfVectorizer\n",
        "from sklearn.linear_model import LogisticRegression\n",
        "from sklearn.naive_bayes import MultinomialNB\n",
        "from sklearn.svm import LinearSVC\n",
        "\n",
        "def hyperparameter_tuning(X_train, y_train):\n",
        "    print(\"=== HYPERPARAMETER TUNING ===\")\n",
        "\n",
        "    # Define models and pipelines\n",
        "    models = {\n",
        "        'Logistic Regression': Pipeline([\n",
        "            ('vectorizer', TfidfVectorizer()),\n",
        "            ('classifier', LogisticRegression(max_iter=1000, random_state=42))\n",
        "        ]),\n",
        "        'Naive Bayes': Pipeline([\n",
        "            ('vectorizer', TfidfVectorizer()),\n",
        "            ('classifier', MultinomialNB())\n",
        "        ]),\n",
        "        'Linear SVM': Pipeline([\n",
        "            ('vectorizer', TfidfVectorizer()),\n",
        "            ('classifier', LinearSVC(random_state=42))\n",
        "        ])\n",
        "    }\n",
        "\n",
        "    # Define parameter grids\n",
        "    param_grids = {\n",
        "        'Logistic Regression': {\n",
        "            'vectorizer__max_features': [3000, 5000],\n",
        "            'vectorizer__ngram_range': [(1, 1), (1, 2)],\n",
        "            'classifier__C': [0.1, 1, 10]\n",
        "        },\n",
        "        'Naive Bayes': {\n",
        "            'vectorizer__max_features': [3000, 5000],\n",
        "            'vectorizer__ngram_range': [(1, 1), (1, 2)],\n",
        "            'classifier__alpha': [0.5, 1.0, 2.0]\n",
        "        },\n",
        "        'Linear SVM': {\n",
        "            'vectorizer__max_features': [3000, 5000],\n",
        "            'vectorizer__ngram_range': [(1, 1), (1, 2)],\n",
        "            'classifier__C': [0.1, 1, 10]\n",
        "        }\n",
        "    }\n",
        "\n",
        "    best_score = 0\n",
        "    best_model = None\n",
        "    best_name = None\n",
        "\n",
        "    for name in models:\n",
        "        print(f\"\\nTuning {name}...\")\n",
        "        grid = GridSearchCV(\n",
        "            models[name],\n",
        "            param_grids[name],\n",
        "            scoring='accuracy',\n",
        "            cv=3,\n",
        "            n_jobs=-1,\n",
        "            verbose=1\n",
        "        )\n",
        "        grid.fit(X_train, y_train)\n",
        "        print(f\"Best score for {name}: {grid.best_score_:.4f}\")\n",
        "        print(f\"Best params for {name}: {grid.best_params_}\")\n",
        "\n",
        "        if grid.best_score_ > best_score:\n",
        "            best_score = grid.best_score_\n",
        "            best_model = grid.best_estimator_\n",
        "            best_name = name\n",
        "\n",
        "    print(f\"\\n✅ Best Model: {best_name}\")\n",
        "    print(f\"✅ Best Cross-Validated Accuracy: {best_score:.4f}\")\n",
        "    return best_model\n"
      ]
    },
    {
      "cell_type": "markdown",
      "source": [
        "Tuning Hyperparameter By Fitting 3 folds for each of 12 candidates, totalling 36 fits"
      ],
      "metadata": {
        "id": "jn-ysmkF7mXP"
      }
    },
    {
      "cell_type": "code",
      "execution_count": null,
      "metadata": {
        "id": "0dhTHWCJVDSY"
      },
      "outputs": [],
      "source": [
        "from sklearn.model_selection import RandomizedSearchCV\n",
        "import scipy.stats as stats\n",
        "\n",
        "param_dist = {\n",
        "    'vectorizer__max_features': [3000, 5000],\n",
        "    'vectorizer__ngram_range': [(1, 1), (1, 2)],\n",
        "    'classifier__C': stats.uniform(0.1, 10)  # for LogisticRegression or LinearSVC\n",
        "}\n",
        "\n",
        "random_search = RandomizedSearchCV(\n",
        "    pipeline, param_distributions=param_dist, n_iter=5, scoring='accuracy',\n",
        "    cv=3, n_jobs=-1, random_state=42, verbose=1\n",
        ")\n"
      ]
    },
    {
      "cell_type": "code",
      "execution_count": null,
      "metadata": {
        "id": "7cULXNSVVhtW"
      },
      "outputs": [],
      "source": [
        "param_grids = {\n",
        "    'Logistic Regression': {\n",
        "        'vectorizer__max_features': [3000],\n",
        "        'vectorizer__ngram_range': [(1, 2)],\n",
        "        'classifier__C': [1]\n",
        "    },\n",
        "    'Naive Bayes': {\n",
        "        'vectorizer__max_features': [3000],\n",
        "        'vectorizer__ngram_range': [(1, 2)],\n",
        "        'classifier__alpha': [1.0]\n",
        "    }\n",
        "}\n"
      ]
    },
    {
      "cell_type": "code",
      "execution_count": null,
      "metadata": {
        "colab": {
          "base_uri": "https://localhost:8080/"
        },
        "id": "5usOC-cpVjUC",
        "outputId": "f4099519-7f1e-4107-93ac-f3ef7425ccf4"
      },
      "outputs": [
        {
          "output_type": "stream",
          "name": "stdout",
          "text": [
            "=== HYPERPARAMETER TUNING ===\n",
            "\n",
            "Tuning Logistic Regression...\n",
            "Fitting 3 folds for each of 12 candidates, totalling 36 fits\n",
            "Best score for Logistic Regression: 0.9405\n",
            "Best params for Logistic Regression: {'classifier__C': 10, 'vectorizer__max_features': 5000, 'vectorizer__ngram_range': (1, 2)}\n",
            "\n",
            "Tuning Naive Bayes...\n",
            "Fitting 3 folds for each of 12 candidates, totalling 36 fits\n",
            "Best score for Naive Bayes: 0.9350\n",
            "Best params for Naive Bayes: {'classifier__alpha': 0.5, 'vectorizer__max_features': 3000, 'vectorizer__ngram_range': (1, 1)}\n",
            "\n",
            "Tuning Linear SVM...\n",
            "Fitting 3 folds for each of 12 candidates, totalling 36 fits\n",
            "Best score for Linear SVM: 0.9405\n",
            "Best params for Linear SVM: {'classifier__C': 1, 'vectorizer__max_features': 5000, 'vectorizer__ngram_range': (1, 2)}\n",
            "\n",
            "✅ Best Model: Linear SVM\n",
            "✅ Best Cross-Validated Accuracy: 0.9405\n"
          ]
        }
      ],
      "source": [
        "X_small = X_train.sample(n=2000, random_state=42)\n",
        "y_small = y_train.loc[X_small.index]\n",
        "\n",
        "best_model = hyperparameter_tuning(X_small, y_small)\n"
      ]
    },
    {
      "cell_type": "code",
      "execution_count": null,
      "metadata": {
        "colab": {
          "base_uri": "https://localhost:8080/"
        },
        "id": "Ra5Ys9GcPslY",
        "outputId": "67334804-275e-4c2f-eb7d-28f46f3399a7"
      },
      "outputs": [
        {
          "output_type": "stream",
          "name": "stdout",
          "text": [
            "Test Accuracy: 0.9400359080172879\n"
          ]
        }
      ],
      "source": [
        "from sklearn.metrics import accuracy_score\n",
        "\n",
        "y_pred = best_model.predict(X_test)\n",
        "print(\"Test Accuracy:\", accuracy_score(y_test, y_pred))\n"
      ]
    },
    {
      "cell_type": "code",
      "execution_count": null,
      "metadata": {
        "id": "R7bVSD5tuvTP"
      },
      "outputs": [],
      "source": [
        " def predict_new_questions(self, questions):\n",
        "        \"\"\"\n",
        "        Predict on new questions\n",
        "        \"\"\"\n",
        "        if self.model is None:\n",
        "            print(\"No model trained yet!\")\n",
        "            return\n",
        "\n",
        "        # Preprocess questions\n",
        "        processed_questions = [self.preprocess_text(q) for q in questions]\n",
        "\n",
        "        # Predict\n",
        "        predictions = self.model.predict(processed_questions)\n",
        "        probabilities = self.model.predict_proba(processed_questions)\n",
        "\n",
        "        results = []\n",
        "        for i, question in enumerate(questions):\n",
        "            results.append({\n",
        "                'question': question,\n",
        "                'prediction': predictions[i],\n",
        "                'probability_sincere': probabilities[i][0],\n",
        "                'probability_insincere': probabilities[i][1]\n",
        "            })\n",
        "\n",
        "        return results\n"
      ]
    },
    {
      "cell_type": "code",
      "execution_count": null,
      "metadata": {
        "id": "sIB914e7vF6w"
      },
      "outputs": [],
      "source": [
        " def save_model(self, filename):\n",
        "        \"\"\"\n",
        "        Save the trained model\n",
        "        \"\"\"\n",
        "        if self.model is None:\n",
        "            print(\"No model to save!\")\n",
        "            return\n",
        "\n",
        "        import joblib\n",
        "        joblib.dump(self.model, filename)\n",
        "        print(f\"Model saved to {filename}\")\n"
      ]
    },
    {
      "cell_type": "code",
      "execution_count": null,
      "metadata": {
        "id": "0GntDgbfvHrM"
      },
      "outputs": [],
      "source": [
        " def load_model(self, filename):\n",
        "        \"\"\"\n",
        "        Load a saved model\n",
        "        \"\"\"\n",
        "        import joblib\n",
        "        self.model = joblib.load(filename)\n",
        "        print(f\"Model loaded from {filename}\")\n"
      ]
    },
    {
      "cell_type": "code",
      "execution_count": null,
      "metadata": {
        "id": "nkwLhs1DvPLb"
      },
      "outputs": [],
      "source": [
        "# Main execution function\n",
        "def main():\n",
        "    \"\"\"\n",
        "    Main function to run the complete project\n",
        "    \"\"\"\n",
        "    print(\"QUORA INSINCERE QUESTION CLASSIFICATION PROJECT\")\n",
        "    print(\"=\" * 50)\n",
        "\n",
        "    # Initialize classifier\n",
        "    classifier = QuoraClassifier()\n",
        "\n",
        "    # Get file path from user\n",
        "    file_path = input(\"Enter the path to your dataset file: \")\n",
        "\n",
        "    # Load and explore data\n",
        "    df = classifier.load_and_explore_data(file_path)\n",
        "    if df is None:\n",
        "        return\n"
      ]
    },
    {
      "cell_type": "code",
      "execution_count": null,
      "metadata": {
        "id": "19vPgA2ivpCi"
      },
      "outputs": [],
      "source": [
        "def get_column_names(df):\n",
        "    print(\"\\nAvailable columns:\", df.columns.tolist())\n",
        "\n",
        "    text_col = input(\"Enter the name of the text/question column: \")\n",
        "    target_col = input(\"Enter the name of the target/label column: \")\n",
        "\n",
        "    if text_col not in df.columns or target_col not in df.columns:\n",
        "        print(\"Error: Column names not found in dataset!\")\n",
        "        return None, None\n",
        "\n",
        "    return text_col, target_col\n"
      ]
    },
    {
      "cell_type": "code",
      "source": [
        "from sklearn.feature_extraction.text import TfidfVectorizer\n",
        "from sklearn.model_selection import train_test_split, cross_val_score\n",
        "from sklearn.linear_model import LogisticRegression\n",
        "from sklearn.naive_bayes import MultinomialNB\n",
        "from sklearn.svm import LinearSVC\n",
        "from sklearn.pipeline import Pipeline\n",
        "from sklearn.metrics import accuracy_score, roc_auc_score, roc_curve, confusion_matrix\n",
        "import seaborn as sns\n",
        "import matplotlib.pyplot as plt\n",
        "\n",
        "class QuestionClassifier:\n",
        "    def __init__(self):\n",
        "        self.model = None\n",
        "\n",
        "    def analyze_data(self, df, text_col, target_col):\n",
        "        df = df.dropna(subset=[text_col, target_col]).copy()\n",
        "        df['text_length'] = df[text_col].astype(str).str.len()\n",
        "        df['word_count'] = df[text_col].astype(str).apply(lambda x: len(x.split()))\n",
        "        return df\n",
        "\n",
        "    def prepare_features(self, df, text_col, target_col):\n",
        "        X = df[text_col].astype(str)\n",
        "        y = df[target_col]\n",
        "        return train_test_split(X, y, test_size=0.2, stratify=y, random_state=42)\n",
        "\n",
        "    def train_models(self, X_train, y_train):\n",
        "        vectorizer = TfidfVectorizer(max_features=3000, ngram_range=(1, 2))\n",
        "        models = {\n",
        "            'Logistic Regression': LogisticRegression(max_iter=1000, random_state=42),\n",
        "            'Naive Bayes': MultinomialNB(),\n",
        "            'Linear SVM': LinearSVC(random_state=42)\n",
        "        }\n",
        "        results = {}\n",
        "        for name, model in models.items():\n",
        "            pipeline = Pipeline([\n",
        "                ('vectorizer', vectorizer),\n",
        "                ('classifier', model)\n",
        "            ])\n",
        "            scores = cross_val_score(pipeline, X_train, y_train, cv=3, scoring='accuracy', n_jobs=-1)\n",
        "            print(f\"{name} CV Accuracy: {scores.mean():.4f}\")\n",
        "            results[name] = (pipeline, scores.mean())\n",
        "        best_model_name = max(results, key=lambda x: results[x][1])\n",
        "        best_pipeline = results[best_model_name][0]\n",
        "        best_pipeline.fit(X_train, y_train)\n",
        "        self.model = best_pipeline\n",
        "        return results, best_pipeline\n",
        "\n",
        "    def evaluate_model(self, X_test, y_test, results):\n",
        "        preds = self.model.predict(X_test)\n",
        "        acc = accuracy_score(y_test, preds)\n",
        "        try:\n",
        "            probas = self.model.predict_proba(X_test)[:, 1]\n",
        "            auc = roc_auc_score(y_test, probas)\n",
        "        except:\n",
        "            auc = float('nan')  # LinearSVC doesn't support predict_proba\n",
        "        print(f\"Test Accuracy: {acc:.4f}, AUC: {auc:.4f}\")\n",
        "        return acc, auc\n"
      ],
      "metadata": {
        "id": "sv6O1i_7pe_j"
      },
      "execution_count": null,
      "outputs": []
    },
    {
      "cell_type": "markdown",
      "source": [
        "Checking Every Model Accuracy"
      ],
      "metadata": {
        "id": "u23hr-Hv6ljE"
      }
    },
    {
      "cell_type": "code",
      "source": [
        "classifier = QuestionClassifier()\n",
        "\n",
        "# Replace these with actual column names in your df\n",
        "text_col = 'question_text'\n",
        "target_col = 'target'\n",
        "\n",
        "if text_col not in df.columns or target_col not in df.columns:\n",
        "    print(\"Error: Column names not found in dataset!\")\n",
        "else:\n",
        "    df = classifier.analyze_data(df, text_col, target_col)\n",
        "    X_train, X_test, y_train, y_test = classifier.prepare_features(df, text_col, target_col)\n",
        "    results, best_model = classifier.train_models(X_train, y_train)\n",
        "    accuracy, auc = classifier.evaluate_model(X_test, y_test, results)\n"
      ],
      "metadata": {
        "colab": {
          "base_uri": "https://localhost:8080/"
        },
        "id": "dT5A1Hv0pgm4",
        "outputId": "5e1c297b-5960-4741-ba84-d0e4e00ac753"
      },
      "execution_count": null,
      "outputs": [
        {
          "output_type": "stream",
          "name": "stdout",
          "text": [
            "Logistic Regression CV Accuracy: 0.9497\n",
            "Naive Bayes CV Accuracy: 0.9454\n",
            "Linear SVM CV Accuracy: 0.9492\n",
            "Test Accuracy: 0.9498, AUC: 0.9313\n"
          ]
        }
      ]
    },
    {
      "cell_type": "markdown",
      "source": [
        "Checking cross validation score."
      ],
      "metadata": {
        "id": "jv9muLOb7Mey"
      }
    },
    {
      "cell_type": "code",
      "source": [
        "# Analyze data\n",
        "df = classifier.analyze_data(df, text_col, target_col)\n",
        "\n",
        "# Prepare features\n",
        "X_train, X_test, y_train, y_test = classifier.prepare_features(df, text_col, target_col)\n",
        "\n",
        "# Train models\n",
        "results, best_model = classifier.train_models(X_train, y_train)\n",
        "\n",
        "# Evaluate model\n",
        "accuracy, auc = classifier.evaluate_model(X_test, y_test, results)\n",
        "\n",
        "\n"
      ],
      "metadata": {
        "colab": {
          "base_uri": "https://localhost:8080/"
        },
        "id": "CPS_4kRyr9HD",
        "outputId": "758f0b9e-6b59-4191-dcb0-70965641045d"
      },
      "execution_count": null,
      "outputs": [
        {
          "output_type": "stream",
          "name": "stdout",
          "text": [
            "Logistic Regression CV Accuracy: 0.9497\n",
            "Naive Bayes CV Accuracy: 0.9454\n",
            "Linear SVM CV Accuracy: 0.9492\n",
            "Test Accuracy: 0.9498, AUC: 0.9313\n"
          ]
        }
      ]
    },
    {
      "cell_type": "code",
      "source": [
        "def predict_new_questions(self, questions):\n",
        "    \"\"\"\n",
        "    Predict sincerity of new questions using the trained model.\n",
        "    \"\"\"\n",
        "    if self.model is None:\n",
        "        print(\"❌ No model has been trained yet.\")\n",
        "        return []\n",
        "\n",
        "    # If the model is a pipeline, it handles preprocessing & vectorization\n",
        "    predictions = self.model.predict(questions)\n",
        "    try:\n",
        "        probabilities = self.model.predict_proba(questions)\n",
        "    except:\n",
        "        probabilities = [[0.0, 1.0] if pred == 1 else [1.0, 0.0] for pred in predictions]\n",
        "\n",
        "    results = []\n",
        "    for i, q in enumerate(questions):\n",
        "        results.append({\n",
        "            'question': q,\n",
        "            'prediction': predictions[i],\n",
        "            'probability_sincere': probabilities[i][0],\n",
        "            'probability_insincere': probabilities[i][1]\n",
        "        })\n",
        "\n",
        "    return results\n"
      ],
      "metadata": {
        "id": "bpOl1qbkHVQr"
      },
      "execution_count": null,
      "outputs": []
    },
    {
      "cell_type": "code",
      "metadata": {
        "id": "klPH8lE0DDA7"
      },
      "source": [
        "import joblib\n",
        "from sklearn.feature_extraction.text import TfidfVectorizer\n",
        "from sklearn.model_selection import train_test_split, cross_val_score\n",
        "from sklearn.linear_model import LogisticRegression\n",
        "from sklearn.naive_bayes import MultinomialNB\n",
        "from sklearn.svm import LinearSVC\n",
        "from sklearn.pipeline import Pipeline\n",
        "from sklearn.metrics import accuracy_score, roc_auc_score\n",
        "import re\n",
        "import nltk\n",
        "from nltk.corpus import stopwords\n",
        "from nltk.tokenize import word_tokenize\n",
        "from nltk.stem import WordNetLemmatizer\n",
        "import os\n",
        "\n",
        "# Define NLTK data path\n",
        "nltk_data_dir = '/content/nltk_data'\n",
        "os.makedirs(nltk_data_dir, exist_ok=True)\n",
        "nltk.data.path.append(nltk_data_dir)\n",
        "\n",
        "\n",
        "# Download necessary NLTK data\n",
        "try:\n",
        "    nltk.data.find('tokenizers/punkt')\n",
        "except LookupError:\n",
        "    nltk.download('punkt', download_dir=nltk_data_dir, quiet=True)\n",
        "\n",
        "try:\n",
        "    nltk.data.find('corpora/stopwords')\n",
        "except LookupError:\n",
        "    nltk.download('stopwords', download_dir=nltk_data_dir, quiet=True)\n",
        "\n",
        "try:\n",
        "    nltk.data.find('corpora/wordnet')\n",
        "except LookupError:\n",
        "    nltk.download('wordnet', download_dir=nltk_data_dir, quiet=True)\n",
        "\n",
        "# Download punkt_tab specifically as the error suggested\n",
        "try:\n",
        "    nltk.data.find('tokenizers/punkt_tab')\n",
        "except LookupError:\n",
        "    nltk.download('punkt_tab', download_dir=nltk_data_dir, quiet=True)\n",
        "\n",
        "\n",
        "# Initialize\n",
        "lemmatizer = WordNetLemmatizer()\n",
        "stop_words = set(stopwords.words('english'))\n",
        "\n",
        "def preprocess_text(text):\n",
        "    text = str(text).lower()\n",
        "    text = re.sub(r\"http\\S+|www\\S+|https\\S+\", \"\", text)\n",
        "    text = re.sub(r\"<.*?>\", \"\", text)\n",
        "    text = re.sub(r\"[^a-zA-Z\\s]\", \"\", text)\n",
        "    text = re.sub(r\"\\s+\", \" \", text).strip()\n",
        "    tokens = word_tokenize(text)\n",
        "    tokens = [lemmatizer.lemmatize(token) for token in tokens\n",
        "              if token not in stop_words and len(token) > 2]\n",
        "    return ' '.join(tokens)\n",
        "\n",
        "\n",
        "class QuestionClassifier:\n",
        "    def __init__(self):\n",
        "        self.model = None\n",
        "\n",
        "    def analyze_data(self, df, text_col, target_col):\n",
        "        df = df.dropna(subset=[text_col, target_col]).copy()\n",
        "        df['text_length'] = df[text_col].astype(str).str.len()\n",
        "        df['word_count'] = df[text_col].astype(str).apply(lambda x: len(x.split()))\n",
        "        return df\n",
        "\n",
        "    def prepare_features(self, df, text_col, target_col):\n",
        "        X = df[text_col].astype(str)\n",
        "        y = df[target_col]\n",
        "        return train_test_split(X, y, test_size=0.2, stratify=y, random_state=42)\n",
        "\n",
        "    def train_models(self, X_train, y_train):\n",
        "        vectorizer = TfidfVectorizer(max_features=3000, ngram_range=(1, 2))\n",
        "        models = {\n",
        "            'Logistic Regression': LogisticRegression(max_iter=1000, random_state=42),\n",
        "            'Naive Bayes': MultinomialNB(),\n",
        "            'Linear SVM': LinearSVC(random_state=42)\n",
        "        }\n",
        "        results = {}\n",
        "        for name, model in models.items():\n",
        "            pipeline = Pipeline([\n",
        "                ('vectorizer', vectorizer),\n",
        "                ('classifier', model)\n",
        "            ])\n",
        "            scores = cross_val_score(pipeline, X_train, y_train, cv=3, scoring='accuracy')\n",
        "            print(f\"{name} CV Accuracy: {scores.mean():.4f}\")\n",
        "            results[name] = (pipeline, scores.mean())\n",
        "\n",
        "        best_model_name = max(results, key=lambda x: results[x][1])\n",
        "        best_pipeline = results[best_model_name][0]\n",
        "\n",
        "        print(f\"\\nBest model selected: {best_model_name}\")\n",
        "        print(f\"Best pipeline before fitting: {best_pipeline}\")\n",
        "\n",
        "        try:\n",
        "            best_pipeline.fit(X_train, y_train)\n",
        "            self.model = best_pipeline\n",
        "            print(f\"Model trained and assigned to self.model: {self.model is not None}\")\n",
        "        except Exception as e:\n",
        "            print(f\"Error during model training: {e}\")\n",
        "            self.model = None # Ensure self.model is None if training fails\n",
        "\n",
        "        return results, best_pipeline\n",
        "\n",
        "    def evaluate_model(self, X_test, y_test, results):\n",
        "        if self.model is None:\n",
        "            print(\"Model not trained. Cannot evaluate.\")\n",
        "            return float('nan'), float('nan')\n",
        "\n",
        "        preds = self.model.predict(X_test)\n",
        "        acc = accuracy_score(y_test, preds)\n",
        "        try:\n",
        "            probas = self.model.predict_proba(X_test)[:, 1]\n",
        "            auc = roc_auc_score(y_test, probas)\n",
        "        except:\n",
        "            auc = float('nan')  # For LinearSVC which doesn't support predict_proba\n",
        "        print(f\"Test Accuracy: {acc:.4f}, AUC: {auc:.4f}\")\n",
        "        return acc, auc\n",
        "\n",
        "    def save_model(self, filename):\n",
        "        if self.model is None:\n",
        "            print(\"No model to save!\")\n",
        "            return\n",
        "        joblib.dump(self.model, filename)\n",
        "        print(f\"✅ Model saved to '{filename}'\")\n",
        "\n",
        "    def predict_new_questions(self, questions):\n",
        "        \"\"\"\n",
        "        Predict on new questions\n",
        "        \"\"\"\n",
        "        print(f\"Input questions: {questions}\")\n",
        "        if self.model is None:\n",
        "            print(\"No model trained yet!\")\n",
        "            return None # Return None if model is not trained\n",
        "\n",
        "        # Preprocess questions\n",
        "        processed_questions = [preprocess_text(q) for q in questions] # Use the global preprocess_text function\n",
        "        print(f\"Processed questions: {processed_questions}\")\n",
        "\n",
        "        # Predict\n",
        "        predictions = self.model.predict(processed_questions)\n",
        "        print(f\"Predictions: {predictions}\")\n",
        "\n",
        "        # Check if the model has predict_proba\n",
        "        if hasattr(self.model, 'predict_proba'):\n",
        "          probabilities = self.model.predict_proba(processed_questions)\n",
        "          print(f\"Probabilities: {probabilities}\")\n",
        "        else:\n",
        "          # Handle models without predict_proba (like LinearSVC)\n",
        "          probabilities = [[0, 0] for _ in range(len(questions))] # Placeholder, cannot get probabilities\n",
        "          print(\"Model does not support predict_proba. Using placeholder probabilities.\")\n",
        "\n",
        "        results = []\n",
        "        for i, question in enumerate(questions):\n",
        "            results.append({\n",
        "                'question': question,\n",
        "                'prediction': predictions[i],\n",
        "                'probability_sincere': probabilities[i][0],\n",
        "                'probability_insincere': probabilities[i][1]\n",
        "            })\n",
        "        print(f\"Results before returning: {results}\")\n",
        "        return results"
      ],
      "execution_count": null,
      "outputs": []
    },
    {
      "cell_type": "markdown",
      "source": [
        "Testing Different Type of Questions to see what is the probablity of a specefic question to sincere and insincere."
      ],
      "metadata": {
        "id": "LH54uyPR5h2B"
      }
    },
    {
      "cell_type": "code",
      "metadata": {
        "colab": {
          "base_uri": "https://localhost:8080/"
        },
        "id": "0a787ead",
        "outputId": "a37db78b-beea-4d00-ec69-1473e22b1117"
      },
      "source": [
        "classifier = QuestionClassifier()\n",
        "\n",
        "# Assume df, text_col, and target_col are already defined\n",
        "# If not, you would need to load data and identify columns first.\n",
        "# For this example, we will use the existing df and column names.\n",
        "\n",
        "# Analyze data\n",
        "df = classifier.analyze_data(df, text_col, target_col)\n",
        "\n",
        "# Prepare features\n",
        "X_train, X_test, y_train, y_test = classifier.prepare_features(df, text_col, target_col)\n",
        "\n",
        "# Train models\n",
        "results, best_model = classifier.train_models(X_train, y_train)\n",
        "\n",
        "# Check if model was trained successfully\n",
        "if classifier.model is None:\n",
        "    print(\"\\nError: Model training failed. Cannot predict on new questions.\")\n",
        "else:\n",
        "    # Now, test on new questions\n",
        "    test_new = input(\"\\nDo you want to test on new questions? (y/n): \")\n",
        "    if test_new.lower() == 'y':\n",
        "        sample_questions = [\n",
        "            \"What is the best way to learn machine learning?\",\n",
        "            \"Why are all politicians corrupt and evil?\",\n",
        "            \"How can I improve my programming skills?\",\n",
        "            \"Why do people from [country] smell bad?\"\n",
        "        ]\n",
        "\n",
        "        predictions_results = classifier.predict_new_questions(sample_questions)\n",
        "        print(\"\\nPrediction Results:\")\n",
        "        print(predictions_results)\n",
        "\n",
        "        if predictions_results is not None: # Add a check for None results\n",
        "            for r in predictions_results:\n",
        "                print(f\"\\nQuestion: {r['question']}\")\n",
        "                print(f\"Prediction: {'Insincere' if r['prediction'] == 1 else 'Sincere'}\")\n",
        "                print(f\"Probability (Sincere): {r['probability_sincere']:.2f}\")\n",
        "                print(f\"Probability (Insincere): {r['probability_insincere']:.2f}\")\n",
        "        else:\n",
        "            print(\"Could not get predictions.\")"
      ],
      "execution_count": null,
      "outputs": [
        {
          "output_type": "stream",
          "name": "stdout",
          "text": [
            "Logistic Regression CV Accuracy: 0.9497\n",
            "Naive Bayes CV Accuracy: 0.9454\n",
            "Linear SVM CV Accuracy: 0.9492\n",
            "\n",
            "Best model selected: Logistic Regression\n",
            "Best pipeline before fitting: Pipeline(steps=[('vectorizer',\n",
            "                 TfidfVectorizer(max_features=3000, ngram_range=(1, 2))),\n",
            "                ('classifier',\n",
            "                 LogisticRegression(max_iter=1000, random_state=42))])\n",
            "Model trained and assigned to self.model: True\n",
            "\n",
            "Do you want to test on new questions? (y/n): y\n",
            "Input questions: ['What is the best way to learn machine learning?', 'Why are all politicians corrupt and evil?', 'How can I improve my programming skills?', 'Why do people from [country] smell bad?']\n",
            "Processed questions: ['best way learn machine learning', 'politician corrupt evil', 'improve programming skill', 'people country smell bad']\n",
            "Predictions: [0 0 0 0]\n",
            "Probabilities: [[0.99741734 0.00258266]\n",
            " [0.87538485 0.12461515]\n",
            " [0.99811863 0.00188137]\n",
            " [0.76224539 0.23775461]]\n",
            "Results before returning: [{'question': 'What is the best way to learn machine learning?', 'prediction': np.int64(0), 'probability_sincere': np.float64(0.9974173428331732), 'probability_insincere': np.float64(0.0025826571668268452)}, {'question': 'Why are all politicians corrupt and evil?', 'prediction': np.int64(0), 'probability_sincere': np.float64(0.8753848482618681), 'probability_insincere': np.float64(0.12461515173813188)}, {'question': 'How can I improve my programming skills?', 'prediction': np.int64(0), 'probability_sincere': np.float64(0.9981186300887774), 'probability_insincere': np.float64(0.001881369911222598)}, {'question': 'Why do people from [country] smell bad?', 'prediction': np.int64(0), 'probability_sincere': np.float64(0.7622453924313194), 'probability_insincere': np.float64(0.2377546075686806)}]\n",
            "\n",
            "Prediction Results:\n",
            "[{'question': 'What is the best way to learn machine learning?', 'prediction': np.int64(0), 'probability_sincere': np.float64(0.9974173428331732), 'probability_insincere': np.float64(0.0025826571668268452)}, {'question': 'Why are all politicians corrupt and evil?', 'prediction': np.int64(0), 'probability_sincere': np.float64(0.8753848482618681), 'probability_insincere': np.float64(0.12461515173813188)}, {'question': 'How can I improve my programming skills?', 'prediction': np.int64(0), 'probability_sincere': np.float64(0.9981186300887774), 'probability_insincere': np.float64(0.001881369911222598)}, {'question': 'Why do people from [country] smell bad?', 'prediction': np.int64(0), 'probability_sincere': np.float64(0.7622453924313194), 'probability_insincere': np.float64(0.2377546075686806)}]\n",
            "\n",
            "Question: What is the best way to learn machine learning?\n",
            "Prediction: Sincere\n",
            "Probability (Sincere): 1.00\n",
            "Probability (Insincere): 0.00\n",
            "\n",
            "Question: Why are all politicians corrupt and evil?\n",
            "Prediction: Sincere\n",
            "Probability (Sincere): 0.88\n",
            "Probability (Insincere): 0.12\n",
            "\n",
            "Question: How can I improve my programming skills?\n",
            "Prediction: Sincere\n",
            "Probability (Sincere): 1.00\n",
            "Probability (Insincere): 0.00\n",
            "\n",
            "Question: Why do people from [country] smell bad?\n",
            "Prediction: Sincere\n",
            "Probability (Sincere): 0.76\n",
            "Probability (Insincere): 0.24\n"
          ]
        }
      ]
    }
  ],
  "metadata": {
    "colab": {
      "provenance": []
    },
    "kernelspec": {
      "display_name": "Python 3",
      "name": "python3"
    },
    "language_info": {
      "name": "python"
    }
  },
  "nbformat": 4,
  "nbformat_minor": 0
}